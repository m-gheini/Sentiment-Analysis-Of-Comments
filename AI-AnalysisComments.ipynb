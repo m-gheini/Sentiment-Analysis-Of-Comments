{
 "cells": [
  {
   "cell_type": "markdown",
   "metadata": {
    "direction": "rtl"
   },
   "source": [
    "# <center/>هوش مصنوعی<center>\n",
    "\n",
    "## <center/>پروژه سوم - طبفه بند بیزی<center>\n",
    "### <center/>دکتر فدایی - دکتر مرادی<center>\n",
    "### <center/>محیا قینی -810196615 <center>\n",
    "###### <center/>آبان 1399 <center>"
   ]
  },
  {
   "cell_type": "markdown",
   "metadata": {
    "direction": "rtl"
   },
   "source": [
    "## <div style=\"direction:rtl\">هدف پروژه</div> \n",
    "<div style=\"direction:rtl\">یکی از مسائل مهم و پرکاربرد در حوزه هوش مصنوعی مسائل دسته بندی و طبقه بندی داده هاست. در این پروژه میخواهیم داده ها را به کمک مدل بیز دسته بندی کنیم. علاوه بر پیاده سازی این مدل عوامل تاثیرگذار بر آن را هم بررسی خواهیم کرد. در نهایت دسته بندی خود را با معیار های گوناگونی می سنجیم. </div> "
   ]
  },
  {
   "cell_type": "markdown",
   "metadata": {
    "direction": "rtl"
   },
   "source": [
    "## <div style=\"direction:rtl\">صورت مسئله</div>\n",
    "<div style=\"direction:rtl\">به ما مجموعه ای داده که برگرفته از سایت دیجیکالا است؛ داده شده است. حال از ما خواسته شده است با کمک دسته بند بیزی و داده هایی که داریم؛ مجموعه دیگری از داده ها را دسته بندی کنیم. در اصل مسئله دو فاز دارد یکی تجزیه و تحلیل داده ها و دیگری تشخیص نظر کاربر با توجه به تحلیل های مرحله قبل.</div>"
   ]
  },
  {
   "cell_type": "markdown",
   "metadata": {
    "direction": "rtl"
   },
   "source": [
    "## <div style=\"direction:rtl\">کتابخانه های استفاده شده در حل مسئله</div>\n",
    "<div style=\"direction:rtl\">همانطور که می دانیم در پایتون کتابخانه های کاربردی و زیادی برای راحت تر شدن تحلیل ها و کار با داده ها وجود دارد. برای این مسئله از کتابخانه های زیر استفاده شده است:<br>- کتابخانه hazm:<br>\n",
    " این کتابخانه برای پردازش متن در پایتون است و عملاً معادل کتابخانه NLTK در پایتون اما برای زبان فارسی است.<br>\n",
    "- کتابخانه pandas: <br>\n",
    " این کتابخانه به جهت کار و مدیریت دیتافریم ها نیاز است.<br>\n",
    "- کتابخانه sys و codec:<br>\n",
    "    این دو کتابخانه برای خواندن فایل تکست لغات تکراری که کاراکتر های فارسی دارند لازم است.<br>\n",
    "- کتابخانه random:<br>\n",
    "    این کتابخانه برای ایجاد عدد رندوم و تصمیم دسته بندی در آینده نیاز است.<br>\n",
    "</div>"
   ]
  },
  {
   "cell_type": "code",
   "execution_count": 1,
   "metadata": {},
   "outputs": [],
   "source": [
    "from hazm import *\n",
    "import pandas as pd\n",
    "# import numpy as np\n",
    "import sys, codecs\n",
    "# import math\n",
    "import random\n",
    "import matplotlib.pyplot as mplot"
   ]
  },
  {
   "cell_type": "markdown",
   "metadata": {
    "direction": "rtl"
   },
   "source": [
    "## <div style=\"direction:rtl\">دیتای داده شده<div/>\n",
    "<div style=\"direction:rtl\">دو دسته داده به ما داده شده است.در ادامه این دو دسته را میبینیم:<br>\n",
    "    1) داده جهت train:<br> \n",
    "    این دسته از داده شامل 6000 سطر و سه ستون تیتر، نظر، پیشنهاد یا عدم پیشنهاد توسط فرد نویسنده نظر است. در کل از این مجموعه داده به جهت تحلیل و ایجاد احتمالات برای تصمیم گیری در آینده استفاده خوایم کرد.<br>\n",
    "    <div/>"
   ]
  },
  {
   "cell_type": "code",
   "execution_count": 2,
   "metadata": {},
   "outputs": [
    {
     "data": {
      "text/html": [
       "<div>\n",
       "<style scoped>\n",
       "    .dataframe tbody tr th:only-of-type {\n",
       "        vertical-align: middle;\n",
       "    }\n",
       "\n",
       "    .dataframe tbody tr th {\n",
       "        vertical-align: top;\n",
       "    }\n",
       "\n",
       "    .dataframe thead th {\n",
       "        text-align: right;\n",
       "    }\n",
       "</style>\n",
       "<table border=\"1\" class=\"dataframe\">\n",
       "  <thead>\n",
       "    <tr style=\"text-align: right;\">\n",
       "      <th></th>\n",
       "      <th>title</th>\n",
       "      <th>comment</th>\n",
       "      <th>recommend</th>\n",
       "    </tr>\n",
       "  </thead>\n",
       "  <tbody>\n",
       "    <tr>\n",
       "      <th>0</th>\n",
       "      <td>زیبا اما کم دوام</td>\n",
       "      <td>با وجود سابقه خوبی که از برند ایرانی نهرین سرا...</td>\n",
       "      <td>not_recommended</td>\n",
       "    </tr>\n",
       "    <tr>\n",
       "      <th>1</th>\n",
       "      <td>بسیار عالی</td>\n",
       "      <td>بسیار عالی</td>\n",
       "      <td>recommended</td>\n",
       "    </tr>\n",
       "    <tr>\n",
       "      <th>2</th>\n",
       "      <td>سلام</td>\n",
       "      <td>من الان ۳ هفته هست استفاده میکنم\\r\\nبرای کسایی...</td>\n",
       "      <td>not_recommended</td>\n",
       "    </tr>\n",
       "    <tr>\n",
       "      <th>3</th>\n",
       "      <td>به درد نمیخورهههه</td>\n",
       "      <td>عمرش کمه تا یه هفته بیشتر نمیشه استفاده کرد یا...</td>\n",
       "      <td>not_recommended</td>\n",
       "    </tr>\n",
       "    <tr>\n",
       "      <th>4</th>\n",
       "      <td>کلمن آب</td>\n",
       "      <td>فکر کنین کلمن بخرین با ذوق. کلی پولشو بدین. به...</td>\n",
       "      <td>not_recommended</td>\n",
       "    </tr>\n",
       "    <tr>\n",
       "      <th>...</th>\n",
       "      <td>...</td>\n",
       "      <td>...</td>\n",
       "      <td>...</td>\n",
       "    </tr>\n",
       "    <tr>\n",
       "      <th>5995</th>\n",
       "      <td>جنسش عالیه</td>\n",
       "      <td>خیلی جنس پارچش نرم ولطیفه خیلیم جنسش خوبه اما ...</td>\n",
       "      <td>recommended</td>\n",
       "    </tr>\n",
       "    <tr>\n",
       "      <th>5996</th>\n",
       "      <td>خرید محصول</td>\n",
       "      <td>سلام.واقعا فکر نمی کردم به این راحتی اصلاح کنم...</td>\n",
       "      <td>recommended</td>\n",
       "    </tr>\n",
       "    <tr>\n",
       "      <th>5997</th>\n",
       "      <td>تعریف</td>\n",
       "      <td>من از دیجی کالا خریدم خیلی زود دستم رسید،زیبا،...</td>\n",
       "      <td>recommended</td>\n",
       "    </tr>\n",
       "    <tr>\n",
       "      <th>5998</th>\n",
       "      <td>اصلا چای ماچا نیسش</td>\n",
       "      <td>یا شرکت نمیدونسته چای ماچا امپریال چیه یا واقع...</td>\n",
       "      <td>not_recommended</td>\n",
       "    </tr>\n",
       "    <tr>\n",
       "      <th>5999</th>\n",
       "      <td>یک هدست بدون سیم عالی</td>\n",
       "      <td>این هدست را چند هفته قبل از سایت دیجی کالا خری...</td>\n",
       "      <td>recommended</td>\n",
       "    </tr>\n",
       "  </tbody>\n",
       "</table>\n",
       "<p>6000 rows × 3 columns</p>\n",
       "</div>"
      ],
      "text/plain": [
       "                      title  \\\n",
       "0          زیبا اما کم دوام   \n",
       "1                بسیار عالی   \n",
       "2                      سلام   \n",
       "3         به درد نمیخورهههه   \n",
       "4                   کلمن آب   \n",
       "...                     ...   \n",
       "5995             جنسش عالیه   \n",
       "5996             خرید محصول   \n",
       "5997                  تعریف   \n",
       "5998     اصلا چای ماچا نیسش   \n",
       "5999  یک هدست بدون سیم عالی   \n",
       "\n",
       "                                                comment        recommend  \n",
       "0     با وجود سابقه خوبی که از برند ایرانی نهرین سرا...  not_recommended  \n",
       "1                                            بسیار عالی      recommended  \n",
       "2     من الان ۳ هفته هست استفاده میکنم\\r\\nبرای کسایی...  not_recommended  \n",
       "3     عمرش کمه تا یه هفته بیشتر نمیشه استفاده کرد یا...  not_recommended  \n",
       "4     فکر کنین کلمن بخرین با ذوق. کلی پولشو بدین. به...  not_recommended  \n",
       "...                                                 ...              ...  \n",
       "5995  خیلی جنس پارچش نرم ولطیفه خیلیم جنسش خوبه اما ...      recommended  \n",
       "5996  سلام.واقعا فکر نمی کردم به این راحتی اصلاح کنم...      recommended  \n",
       "5997  من از دیجی کالا خریدم خیلی زود دستم رسید،زیبا،...      recommended  \n",
       "5998  یا شرکت نمیدونسته چای ماچا امپریال چیه یا واقع...  not_recommended  \n",
       "5999  این هدست را چند هفته قبل از سایت دیجی کالا خری...      recommended  \n",
       "\n",
       "[6000 rows x 3 columns]"
      ]
     },
     "execution_count": 2,
     "metadata": {},
     "output_type": "execute_result"
    }
   ],
   "source": [
    "#Get Train Data\n",
    "trainData = pd.read_csv(\"comment_train.csv\")\n",
    "trainData"
   ]
  },
  {
   "cell_type": "markdown",
   "metadata": {
    "direction": "rtl"
   },
   "source": [
    "<div style=\"direction:rtl\">\n",
    "2) داده جهت test:<br>\n",
    "    این دسته از داده شامل 800 سطر و سه ستون تیتر، نظر، پیشنهاد یا عدم پیشنهاد توسط فرد نویسنده نظر است. در کل از این مجموعه داده به جهت تست دسته بندی که در آینده طراحی خواهیم کرد به کار خواهد رفت.<br>\n",
    "    </div>"
   ]
  },
  {
   "cell_type": "code",
   "execution_count": 3,
   "metadata": {},
   "outputs": [
    {
     "data": {
      "text/html": [
       "<div>\n",
       "<style scoped>\n",
       "    .dataframe tbody tr th:only-of-type {\n",
       "        vertical-align: middle;\n",
       "    }\n",
       "\n",
       "    .dataframe tbody tr th {\n",
       "        vertical-align: top;\n",
       "    }\n",
       "\n",
       "    .dataframe thead th {\n",
       "        text-align: right;\n",
       "    }\n",
       "</style>\n",
       "<table border=\"1\" class=\"dataframe\">\n",
       "  <thead>\n",
       "    <tr style=\"text-align: right;\">\n",
       "      <th></th>\n",
       "      <th>title</th>\n",
       "      <th>comment</th>\n",
       "      <th>recommend</th>\n",
       "    </tr>\n",
       "  </thead>\n",
       "  <tbody>\n",
       "    <tr>\n",
       "      <th>0</th>\n",
       "      <td>وری گود</td>\n",
       "      <td>تازه خریدم یه مدت کار بکنه مشخص میشه کیفیت قطعاتش</td>\n",
       "      <td>recommended</td>\n",
       "    </tr>\n",
       "    <tr>\n",
       "      <th>1</th>\n",
       "      <td>زیاد مناسب نیست رنگ پس میده یه وقتایی موقع نوشتن</td>\n",
       "      <td>با این قیمت گزینه های بهتری هم میشه گرفت.\\r\\nر...</td>\n",
       "      <td>not_recommended</td>\n",
       "    </tr>\n",
       "    <tr>\n",
       "      <th>2</th>\n",
       "      <td>پنکه گوشی</td>\n",
       "      <td>خیلی عالیه، فقط کاش از اون سمتش میشد به پاوربا...</td>\n",
       "      <td>recommended</td>\n",
       "    </tr>\n",
       "    <tr>\n",
       "      <th>3</th>\n",
       "      <td>دستگاه خیلی ضعیف</td>\n",
       "      <td>من این فیس براس چند روز یپش به دستم رسید و الا...</td>\n",
       "      <td>not_recommended</td>\n",
       "    </tr>\n",
       "    <tr>\n",
       "      <th>4</th>\n",
       "      <td>عالی و بیست</td>\n",
       "      <td>بنده یه هارد اکسترنال دارم که کابل فابریکش سال...</td>\n",
       "      <td>recommended</td>\n",
       "    </tr>\n",
       "    <tr>\n",
       "      <th>...</th>\n",
       "      <td>...</td>\n",
       "      <td>...</td>\n",
       "      <td>...</td>\n",
       "    </tr>\n",
       "    <tr>\n",
       "      <th>795</th>\n",
       "      <td>بسیار کوچیک</td>\n",
       "      <td>طراحیش قشنگه ولی  داخل عکس خیلی بزرگتر ب چشم م...</td>\n",
       "      <td>not_recommended</td>\n",
       "    </tr>\n",
       "    <tr>\n",
       "      <th>796</th>\n",
       "      <td>لامپ چینی</td>\n",
       "      <td>این لامپ چینی هستتش کیفیت پایین . نور کم و فاق...</td>\n",
       "      <td>not_recommended</td>\n",
       "    </tr>\n",
       "    <tr>\n",
       "      <th>797</th>\n",
       "      <td>خوب بود</td>\n",
       "      <td>در کل از این خریدم راضی هستم و به تناسب قیمتش ...</td>\n",
       "      <td>recommended</td>\n",
       "    </tr>\n",
       "    <tr>\n",
       "      <th>798</th>\n",
       "      <td>کیفیت خوبی داره</td>\n",
       "      <td>تازع نصبش کردم-سرعت انتقال و نصب بازی روش عالی...</td>\n",
       "      <td>recommended</td>\n",
       "    </tr>\n",
       "    <tr>\n",
       "      <th>799</th>\n",
       "      <td>از خریدم پشیمونم</td>\n",
       "      <td>نسبت به باطری اصلی فقط 60% کار میکنه\\r\\nالان د...</td>\n",
       "      <td>not_recommended</td>\n",
       "    </tr>\n",
       "  </tbody>\n",
       "</table>\n",
       "<p>800 rows × 3 columns</p>\n",
       "</div>"
      ],
      "text/plain": [
       "                                                title  \\\n",
       "0                                             وری گود   \n",
       "1    زیاد مناسب نیست رنگ پس میده یه وقتایی موقع نوشتن   \n",
       "2                                           پنکه گوشی   \n",
       "3                                    دستگاه خیلی ضعیف   \n",
       "4                                         عالی و بیست   \n",
       "..                                                ...   \n",
       "795                                       بسیار کوچیک   \n",
       "796                                         لامپ چینی   \n",
       "797                                           خوب بود   \n",
       "798                                   کیفیت خوبی داره   \n",
       "799                                  از خریدم پشیمونم   \n",
       "\n",
       "                                               comment        recommend  \n",
       "0    تازه خریدم یه مدت کار بکنه مشخص میشه کیفیت قطعاتش      recommended  \n",
       "1    با این قیمت گزینه های بهتری هم میشه گرفت.\\r\\nر...  not_recommended  \n",
       "2    خیلی عالیه، فقط کاش از اون سمتش میشد به پاوربا...      recommended  \n",
       "3    من این فیس براس چند روز یپش به دستم رسید و الا...  not_recommended  \n",
       "4    بنده یه هارد اکسترنال دارم که کابل فابریکش سال...      recommended  \n",
       "..                                                 ...              ...  \n",
       "795  طراحیش قشنگه ولی  داخل عکس خیلی بزرگتر ب چشم م...  not_recommended  \n",
       "796  این لامپ چینی هستتش کیفیت پایین . نور کم و فاق...  not_recommended  \n",
       "797  در کل از این خریدم راضی هستم و به تناسب قیمتش ...      recommended  \n",
       "798  تازع نصبش کردم-سرعت انتقال و نصب بازی روش عالی...      recommended  \n",
       "799  نسبت به باطری اصلی فقط 60% کار میکنه\\r\\nالان د...  not_recommended  \n",
       "\n",
       "[800 rows x 3 columns]"
      ]
     },
     "execution_count": 3,
     "metadata": {},
     "output_type": "execute_result"
    }
   ],
   "source": [
    "#Get Test Data\n",
    "testData = pd.read_csv(\"comment_test.csv\")\n",
    "testData"
   ]
  },
  {
   "cell_type": "markdown",
   "metadata": {
    "direction": "rtl"
   },
   "source": [
    "<div style=\"direction:rtl\">\n",
    "نصف داده های تست در اصل در دسته recommended و نصف آنها در دسته not_recommended هستند.\n",
    "    </div>"
   ]
  },
  {
   "cell_type": "code",
   "execution_count": 4,
   "metadata": {},
   "outputs": [
    {
     "data": {
      "text/plain": [
       "400"
      ]
     },
     "execution_count": 4,
     "metadata": {},
     "output_type": "execute_result"
    }
   ],
   "source": [
    "totalRecommended = sum(testData[\"recommend\"] == \"recommended\")\n",
    "totalRecommended"
   ]
  },
  {
   "cell_type": "code",
   "execution_count": 5,
   "metadata": {},
   "outputs": [],
   "source": [
    "#PART 1; Preprocessing"
   ]
  },
  {
   "cell_type": "markdown",
   "metadata": {
    "direction": "rtl"
   },
   "source": [
    "## <div style=\"direction:rtl\">فاز اول: پیش پردازش داده<div/>\n",
    "<div style=\"direction:rtl\">\n",
    "    پیش پردازش داده از مراحل مهم برای شروع مسائل هوش مصنوعی است. در واقع با کمک پیش پردازش داده خامی که به ما داده اند را به شکل مناسبی برای استفاده در مدل تبدیل می کنیم. اهمیت پیش پردازش در آن است که کیفیت پیش پردازش در دقت و سرعت طبقه بندی تاثیر زیادی دارد. ما در اینجا از کتابخانه هضم برای پیش پردازش کمک میگیریم. در ادامه تعدادی از راهها و عملیاتی که می تواند به ایجاد داده ای مناسب در مدل کمک کند را بررسی می کنیم.  \n",
    "    </div>"
   ]
  },
  {
   "cell_type": "code",
   "execution_count": 6,
   "metadata": {},
   "outputs": [],
   "source": [
    "resultToCheck = []\n",
    "resultToCheckAS = []"
   ]
  },
  {
   "cell_type": "markdown",
   "metadata": {
    "direction": "rtl"
   },
   "source": [
    "#### <div style=\"direction:rtl\">حذف رشته های پر تکرار(stop words)<div/>\n",
    "<div style=\"direction:rtl\">\n",
    "    اهمیت این مرحله از آن جهت است که نمیخواهیم در داده هایمان کلمات پرتکراری(به، با، ...) باشند که احتمال رخ دادنشان در هر دو دسته زیاد باشد و عملاً در تصمیم گیری کمکی نمیکنند و تنها حافظه اشغال می کنند و زمان اجرا وتحلیل داده ها را زیاد می کنند.<br>\n",
    "    ما در اینجا در یک فایل تکست(ignore.txt) که لیستی از این لغات پرتکرار را دارد کمک میگیریم. این لیست با کمک فایل لغات پرتکرار کتابخانه هضم تولید شده است. البته لغاتی مانند خوب، عالی و ... که در تصمیم گیری این مسئله خاص تاثیر گذار است را حذف کردم و تعدادی کاراکتر مانند ویرگول، علامت سوال و ... را اضافه کردم.<br>\n",
    "    همانطور که در توضیح کتابخانه ها بالاتر توضیح داده شده است، از آنجا که فایل تکست رشته های فارسی داشتند خواندن عادی آن مناسب نبود. بنابراین با codec و encoding = utf8 فایل را می خوانیم سپس یک لیست از روی داده ها می سازیم. \n",
    "    </div>"
   ]
  },
  {
   "cell_type": "code",
   "execution_count": 7,
   "metadata": {},
   "outputs": [],
   "source": [
    "#Get should ignore tokens\n",
    "with codecs.open(\"ignore.txt\", encoding='utf8') as stopwords_file:\n",
    "    ignore = list(set(map(lambda w: w.strip(), stopwords_file)))"
   ]
  },
  {
   "cell_type": "markdown",
   "metadata": {
    "direction": "rtl"
   },
   "source": [
    "<div style=\"direction:rtl\">\n",
    "   حال به بررسی و توضیح تعدادی دیگر از توابع که کتابخانه هضم جهت پیش پردازش معرفی می کند می پردازیم: \n",
    "    </div>"
   ]
  },
  {
   "cell_type": "code",
   "execution_count": 8,
   "metadata": {},
   "outputs": [],
   "source": [
    "#Needed classes from Hazm\n",
    "normalizer = Normalizer()\n",
    "stemmer = Stemmer()\n",
    "lemmatizer = Lemmatizer()"
   ]
  },
  {
   "cell_type": "markdown",
   "metadata": {
    "direction": "rtl"
   },
   "source": [
    "#### <div style=\"direction:rtl\">تبدیل فاصله در یک کلمه به نیم فاصله(normalize)<div/>\n",
    "<div style=\"direction:rtl\"> اهمیت این مرحله از آن جهت است که در مراحل آینده رشته ای که نیم فاصله داشته باشد یک رشته واحد به حساب می آید. مثال زیر را در نظر گیرید:</div>"
   ]
  },
  {
   "cell_type": "code",
   "execution_count": 9,
   "metadata": {},
   "outputs": [
    {
     "data": {
      "text/plain": [
       "'نمی\\u200cخواستم'"
      ]
     },
     "execution_count": 9,
     "metadata": {},
     "output_type": "execute_result"
    }
   ],
   "source": [
    "normalizer.normalize(\"نمی خواستم\")"
   ]
  },
  {
   "cell_type": "markdown",
   "metadata": {
    "direction": "rtl"
   },
   "source": [
    "<div style=\"direction:rtl\">الان کلمه نمی‌خواستم کلمه ای واحد شمرده می شود و اگر برای مثال \"نمی\" در لیست لغات پرتکرار باشد از این فعل حذف نمی شود و جزو فعل شمرده می شود.</div> "
   ]
  },
  {
   "cell_type": "markdown",
   "metadata": {
    "direction": "rtl"
   },
   "source": [
    "<div style=\"direction:rtl\">توضیح دو مورد باقی مانده را در قالب پاسخ به پرسش اول صورت پروژه می دهم:<br>\n",
    "<b>\n",
    "1)  &ensp; جایگزین کردن کلمات با روش stemming یا lemmatization را توضیح دهید و تاثیر آن را تحلیل کنید. \n",
    "    </b>\n",
    "</div> "
   ]
  },
  {
   "cell_type": "markdown",
   "metadata": {
    "direction": "rtl"
   },
   "source": [
    "#### <div style=\"direction:rtl\"> ریشه یابی لغات(lemmatizer)</div>\n",
    "<div style=\"direction:rtl\">اهمیت این مرحله از این جهت است که از تکرار ها بی مورد در داده ها جلوگیری می کند و داده هایی که در ریشه  یکسان هستند را هم شکل می کند تا از مصرف بیش از حد حافظه جلوگیری شود.</br> \n",
    "در این مسئله خاص ترجیح من عدم استفاده از این تابع است. از آنجا که این تابع کلماتی که در ظاهر ریشه یکسانی دارند اما در معنا بسیار متفاوتند را هم یکسان می کند. در این مسئله برای مثال نظری که گفته شده \" من این محصول را <b> نمی خواستم</b>\" بسیار متفاوت است با نظری که گفته شده \" من این محصول را <b> می خواستم</b>\". اما در نهایت هردو خواه و خواست در نظر گرفته می شوند مانند مثال پایین: \n",
    "</div> "
   ]
  },
  {
   "cell_type": "code",
   "execution_count": 10,
   "metadata": {},
   "outputs": [
    {
     "data": {
      "text/plain": [
       "'خواست#خواه'"
      ]
     },
     "execution_count": 10,
     "metadata": {},
     "output_type": "execute_result"
    }
   ],
   "source": [
    "lemmatizer.lemmatize(\"نمی‌خواستم\")"
   ]
  },
  {
   "cell_type": "code",
   "execution_count": 11,
   "metadata": {},
   "outputs": [
    {
     "data": {
      "text/plain": [
       "'خواست#خواه'"
      ]
     },
     "execution_count": 11,
     "metadata": {},
     "output_type": "execute_result"
    }
   ],
   "source": [
    "lemmatizer.lemmatize(\"می‌خواستم\")"
   ]
  },
  {
   "cell_type": "markdown",
   "metadata": {
    "direction": "rtl"
   },
   "source": [
    "#### <div style=\"direction:rtl\"> ریشه یابی لغات به معنای واحد(stemming)</div>\n",
    "<div style=\"direction:rtl\">اهمیت این مرحله از این جهت است که شکست ها و شکل های مختلف یک کلمه را به یک شکل در می آورد. تا حد خوبی مانند تابع قبل است با این تفاوت که به لغات مفهوم می بخشد تا لغات با معنای یکسان به شکل یک کلمه ثبت شوند. بنابراین این هم از تکرار ها بی مورد در داده ها جلوگیری می کند و داده هایی که در معنا و مفهوم یکسان هستند را هم شکل می کند تا از مصرف بیش از حد حافظه جلوگیری شود. </br> \n",
    "در این مسئله خاص ترجیح من عدم استفاده از این تابع است. از آنجا که این تابع کلماتی که در ظاهر معنا و یک جنس یکسانی دارند اما در تاثیر در مفهوم جمله بسیار متفاوتند را هم یکسان می کند. در این مسئله برای مثال نظری که گفته شده \"این محصول <b>بهترین</b> است\" بسیار متفاوت است با نظری که گفته شده \"<b> بهتر</b> از این محصول در بازار موجود است\". اما در نهایت هردو به در نظر گرفته می شوند مانند مثال پایین: \n",
    "</div>"
   ]
  },
  {
   "cell_type": "code",
   "execution_count": 12,
   "metadata": {},
   "outputs": [
    {
     "data": {
      "text/plain": [
       "'به'"
      ]
     },
     "execution_count": 12,
     "metadata": {},
     "output_type": "execute_result"
    }
   ],
   "source": [
    "stemmer.stem(\"بهترین\")"
   ]
  },
  {
   "cell_type": "code",
   "execution_count": 13,
   "metadata": {},
   "outputs": [
    {
     "data": {
      "text/plain": [
       "'به'"
      ]
     },
     "execution_count": 13,
     "metadata": {},
     "output_type": "execute_result"
    }
   ],
   "source": [
    "stemmer.stem(\"بهتر\")"
   ]
  },
  {
   "cell_type": "markdown",
   "metadata": {
    "direction": "rtl"
   },
   "source": [
    "<div style=\"direction:rtl\">\n",
    "    قبل از ادامه بایستی اشاره شود در کتابخانه هضم دو تابع ذکر شده در بالا نام هایی جابه جا براساس عملگرشان و کتابخانه اصلی پایتون یعنی NLTK دارند.\n",
    "</div>"
   ]
  },
  {
   "cell_type": "markdown",
   "metadata": {
    "direction": "rtl"
   },
   "source": [
    "#### <div style=\"direction:rtl\"> توکن بندی(word_tokenize)</div>\n",
    "<div style=\"direction:rtl\">\n",
    "   این قسمت در اصل نیاز مدل کردن داده هاست و پیش پردازش به حساب نمی آیدو در این مرحله رشته های بلند را به توکن و قسمت های کوچکتر تقسیم می کنیم تا در ادامه احتمال و عملیات روی آنها انجام شود.\n",
    "</div>"
   ]
  },
  {
   "cell_type": "markdown",
   "metadata": {
    "direction": "rtl"
   },
   "source": [
    "<div style=\"direction:rtl\">\n",
    "   بنابراین طبق توضیحات برای پیش پردازش به ازای هر سطر ورودی رشته را normalize می کنیم سپس توکن بندی می کنیم. و بعد توکن هایی که در کلمات پرتکرار نیستند را به عنوان داده پردازش شده تولید می کنیم.\n",
    "</div>"
   ]
  },
  {
   "cell_type": "code",
   "execution_count": 14,
   "metadata": {},
   "outputs": [],
   "source": [
    "#Preprocessing\n",
    "def preprocess(column):\n",
    "    result = []\n",
    "    for string in column:\n",
    "        string = normalizer.normalize(string)\n",
    "        for token in word_tokenize(string):\n",
    "            if token not in ignore:\n",
    "#                 token = stemmer.stem(token)\n",
    "#                 token = lemmatizer.lemmatize(token)\n",
    "                result.append(token)\n",
    "    return result"
   ]
  },
  {
   "cell_type": "markdown",
   "metadata": {
    "direction": "rtl"
   },
   "source": [
    "<div style=\"direction:rtl\">\n",
    "  برای راحتی کار داده های train را براساس کلاسشان جدا کردیم و هر ستون را جدا پردازش و در لیستی جداگانه برای مراحل بعد ذخیره کردیم.\n",
    "</div>"
   ]
  },
  {
   "cell_type": "code",
   "execution_count": 15,
   "metadata": {},
   "outputs": [
    {
     "data": {
      "text/html": [
       "<div>\n",
       "<style scoped>\n",
       "    .dataframe tbody tr th:only-of-type {\n",
       "        vertical-align: middle;\n",
       "    }\n",
       "\n",
       "    .dataframe tbody tr th {\n",
       "        vertical-align: top;\n",
       "    }\n",
       "\n",
       "    .dataframe thead th {\n",
       "        text-align: right;\n",
       "    }\n",
       "</style>\n",
       "<table border=\"1\" class=\"dataframe\">\n",
       "  <thead>\n",
       "    <tr style=\"text-align: right;\">\n",
       "      <th></th>\n",
       "      <th>title</th>\n",
       "      <th>comment</th>\n",
       "      <th>recommend</th>\n",
       "    </tr>\n",
       "  </thead>\n",
       "  <tbody>\n",
       "    <tr>\n",
       "      <th>1</th>\n",
       "      <td>بسیار عالی</td>\n",
       "      <td>بسیار عالی</td>\n",
       "      <td>recommended</td>\n",
       "    </tr>\n",
       "    <tr>\n",
       "      <th>7</th>\n",
       "      <td>قیمت بالا</td>\n",
       "      <td>خوب و تاثیر گذار اما با قیمت جدید سخته خریدش ه...</td>\n",
       "      <td>recommended</td>\n",
       "    </tr>\n",
       "    <tr>\n",
       "      <th>9</th>\n",
       "      <td>جای دستمال کاغذی</td>\n",
       "      <td>بسیار زیبا و دارای کارایی مناسب</td>\n",
       "      <td>recommended</td>\n",
       "    </tr>\n",
       "    <tr>\n",
       "      <th>10</th>\n",
       "      <td>بسیار با کیفیت و لنز عالی</td>\n",
       "      <td>دوربین واقعا با این قیمت ارزش خرید دارد \\r\\nعک...</td>\n",
       "      <td>recommended</td>\n",
       "    </tr>\n",
       "    <tr>\n",
       "      <th>11</th>\n",
       "      <td>مهدی</td>\n",
       "      <td>در کل نسبت به قیمت عالیه\\r\\nاگه فقط بخاطر نت م...</td>\n",
       "      <td>recommended</td>\n",
       "    </tr>\n",
       "  </tbody>\n",
       "</table>\n",
       "</div>"
      ],
      "text/plain": [
       "                        title  \\\n",
       "1                  بسیار عالی   \n",
       "7                   قیمت بالا   \n",
       "9            جای دستمال کاغذی   \n",
       "10  بسیار با کیفیت و لنز عالی   \n",
       "11                       مهدی   \n",
       "\n",
       "                                              comment    recommend  \n",
       "1                                          بسیار عالی  recommended  \n",
       "7   خوب و تاثیر گذار اما با قیمت جدید سخته خریدش ه...  recommended  \n",
       "9                     بسیار زیبا و دارای کارایی مناسب  recommended  \n",
       "10  دوربین واقعا با این قیمت ارزش خرید دارد \\r\\nعک...  recommended  \n",
       "11  در کل نسبت به قیمت عالیه\\r\\nاگه فقط بخاطر نت م...  recommended  "
      ]
     },
     "execution_count": 15,
     "metadata": {},
     "output_type": "execute_result"
    }
   ],
   "source": [
    "#Group Train Data\n",
    "grouped = trainData.groupby(\"recommend\")\n",
    "recomTrainData = grouped.get_group(\"recommended\")\n",
    "recomTrainData.head()"
   ]
  },
  {
   "cell_type": "code",
   "execution_count": 16,
   "metadata": {
    "scrolled": true
   },
   "outputs": [
    {
     "data": {
      "text/html": [
       "<div>\n",
       "<style scoped>\n",
       "    .dataframe tbody tr th:only-of-type {\n",
       "        vertical-align: middle;\n",
       "    }\n",
       "\n",
       "    .dataframe tbody tr th {\n",
       "        vertical-align: top;\n",
       "    }\n",
       "\n",
       "    .dataframe thead th {\n",
       "        text-align: right;\n",
       "    }\n",
       "</style>\n",
       "<table border=\"1\" class=\"dataframe\">\n",
       "  <thead>\n",
       "    <tr style=\"text-align: right;\">\n",
       "      <th></th>\n",
       "      <th>title</th>\n",
       "      <th>comment</th>\n",
       "      <th>recommend</th>\n",
       "    </tr>\n",
       "  </thead>\n",
       "  <tbody>\n",
       "    <tr>\n",
       "      <th>0</th>\n",
       "      <td>زیبا اما کم دوام</td>\n",
       "      <td>با وجود سابقه خوبی که از برند ایرانی نهرین سرا...</td>\n",
       "      <td>not_recommended</td>\n",
       "    </tr>\n",
       "    <tr>\n",
       "      <th>2</th>\n",
       "      <td>سلام</td>\n",
       "      <td>من الان ۳ هفته هست استفاده میکنم\\r\\nبرای کسایی...</td>\n",
       "      <td>not_recommended</td>\n",
       "    </tr>\n",
       "    <tr>\n",
       "      <th>3</th>\n",
       "      <td>به درد نمیخورهههه</td>\n",
       "      <td>عمرش کمه تا یه هفته بیشتر نمیشه استفاده کرد یا...</td>\n",
       "      <td>not_recommended</td>\n",
       "    </tr>\n",
       "    <tr>\n",
       "      <th>4</th>\n",
       "      <td>کلمن آب</td>\n",
       "      <td>فکر کنین کلمن بخرین با ذوق. کلی پولشو بدین. به...</td>\n",
       "      <td>not_recommended</td>\n",
       "    </tr>\n",
       "    <tr>\n",
       "      <th>5</th>\n",
       "      <td>سه شخصیت لگو</td>\n",
       "      <td>کالا هایی که اورده شد از نظر شکل هیچ شباهتی به...</td>\n",
       "      <td>not_recommended</td>\n",
       "    </tr>\n",
       "  </tbody>\n",
       "</table>\n",
       "</div>"
      ],
      "text/plain": [
       "               title                                            comment  \\\n",
       "0   زیبا اما کم دوام  با وجود سابقه خوبی که از برند ایرانی نهرین سرا...   \n",
       "2               سلام  من الان ۳ هفته هست استفاده میکنم\\r\\nبرای کسایی...   \n",
       "3  به درد نمیخورهههه  عمرش کمه تا یه هفته بیشتر نمیشه استفاده کرد یا...   \n",
       "4            کلمن آب  فکر کنین کلمن بخرین با ذوق. کلی پولشو بدین. به...   \n",
       "5       سه شخصیت لگو  کالا هایی که اورده شد از نظر شکل هیچ شباهتی به...   \n",
       "\n",
       "         recommend  \n",
       "0  not_recommended  \n",
       "2  not_recommended  \n",
       "3  not_recommended  \n",
       "4  not_recommended  \n",
       "5  not_recommended  "
      ]
     },
     "execution_count": 16,
     "metadata": {},
     "output_type": "execute_result"
    }
   ],
   "source": [
    "notRecomTrainData = grouped.get_group(\"not_recommended\")\n",
    "notRecomTrainData.head()"
   ]
  },
  {
   "cell_type": "code",
   "execution_count": 17,
   "metadata": {},
   "outputs": [
    {
     "data": {
      "text/plain": [
       "['بسیار', 'عالی', 'قیمت', 'بالا', 'دستمال']"
      ]
     },
     "execution_count": 17,
     "metadata": {},
     "output_type": "execute_result"
    }
   ],
   "source": [
    "#Title/Recom/Train\n",
    "processTiReTr = preprocess(recomTrainData[\"title\"])\n",
    "processTiReTr[0:5]"
   ]
  },
  {
   "cell_type": "code",
   "execution_count": 18,
   "metadata": {},
   "outputs": [
    {
     "data": {
      "text/plain": [
       "['بسیار', 'عالی', 'خوب', 'تاثیر', 'گذار']"
      ]
     },
     "execution_count": 18,
     "metadata": {},
     "output_type": "execute_result"
    }
   ],
   "source": [
    "#Comment/Recom/Train\n",
    "processCoReTr = preprocess(recomTrainData[\"comment\"])\n",
    "processCoReTr[0:5]"
   ]
  },
  {
   "cell_type": "code",
   "execution_count": 19,
   "metadata": {},
   "outputs": [
    {
     "data": {
      "text/plain": [
       "['زیبا', 'کم', 'دوام', 'سلام', 'درد']"
      ]
     },
     "execution_count": 19,
     "metadata": {},
     "output_type": "execute_result"
    }
   ],
   "source": [
    "#Title/NotRecom/Train\n",
    "processTiNoTr = preprocess(notRecomTrainData[\"title\"])\n",
    "processTiNoTr[0:5]"
   ]
  },
  {
   "cell_type": "code",
   "execution_count": 20,
   "metadata": {},
   "outputs": [
    {
     "data": {
      "text/plain": [
       "['سابقه', 'خوبی', 'برند', 'ایرانی', 'نهرین']"
      ]
     },
     "execution_count": 20,
     "metadata": {},
     "output_type": "execute_result"
    }
   ],
   "source": [
    "#Comment/NotRecom/Train\n",
    "processCoNoTr = preprocess(notRecomTrainData[\"comment\"])\n",
    "processCoNoTr[0:5]"
   ]
  },
  {
   "cell_type": "markdown",
   "metadata": {
    "direction": "rtl"
   },
   "source": [
    "<div style=\"direction:rtl\">\n",
    " داده های test را از جهت حفظ ترتیب و پیوستگی داده ها درجداگانه و به ترتیب پردازش و در جای خودشان در لیست داده ها ذخیره کردیم. \n",
    "</div>"
   ]
  },
  {
   "cell_type": "code",
   "execution_count": 21,
   "metadata": {},
   "outputs": [
    {
     "data": {
      "text/html": [
       "<div>\n",
       "<style scoped>\n",
       "    .dataframe tbody tr th:only-of-type {\n",
       "        vertical-align: middle;\n",
       "    }\n",
       "\n",
       "    .dataframe tbody tr th {\n",
       "        vertical-align: top;\n",
       "    }\n",
       "\n",
       "    .dataframe thead th {\n",
       "        text-align: right;\n",
       "    }\n",
       "</style>\n",
       "<table border=\"1\" class=\"dataframe\">\n",
       "  <thead>\n",
       "    <tr style=\"text-align: right;\">\n",
       "      <th></th>\n",
       "      <th>title</th>\n",
       "      <th>comment</th>\n",
       "      <th>recommend</th>\n",
       "    </tr>\n",
       "  </thead>\n",
       "  <tbody>\n",
       "    <tr>\n",
       "      <th>0</th>\n",
       "      <td>[وری, گود]</td>\n",
       "      <td>تازه خریدم یه مدت کار بکنه مشخص میشه کیفیت قطعاتش</td>\n",
       "      <td>recommended</td>\n",
       "    </tr>\n",
       "    <tr>\n",
       "      <th>1</th>\n",
       "      <td>[مناسب, رنگ, میده, یه, وقتایی, موقع, نوشتن]</td>\n",
       "      <td>با این قیمت گزینه های بهتری هم میشه گرفت.\\r\\nر...</td>\n",
       "      <td>not_recommended</td>\n",
       "    </tr>\n",
       "    <tr>\n",
       "      <th>2</th>\n",
       "      <td>[پنکه, گوشی]</td>\n",
       "      <td>خیلی عالیه، فقط کاش از اون سمتش میشد به پاوربا...</td>\n",
       "      <td>recommended</td>\n",
       "    </tr>\n",
       "    <tr>\n",
       "      <th>3</th>\n",
       "      <td>[دستگاه, خیلی, ضعیف]</td>\n",
       "      <td>من این فیس براس چند روز یپش به دستم رسید و الا...</td>\n",
       "      <td>not_recommended</td>\n",
       "    </tr>\n",
       "    <tr>\n",
       "      <th>4</th>\n",
       "      <td>[عالی, بیست]</td>\n",
       "      <td>بنده یه هارد اکسترنال دارم که کابل فابریکش سال...</td>\n",
       "      <td>recommended</td>\n",
       "    </tr>\n",
       "  </tbody>\n",
       "</table>\n",
       "</div>"
      ],
      "text/plain": [
       "                                         title  \\\n",
       "0                                   [وری, گود]   \n",
       "1  [مناسب, رنگ, میده, یه, وقتایی, موقع, نوشتن]   \n",
       "2                                 [پنکه, گوشی]   \n",
       "3                         [دستگاه, خیلی, ضعیف]   \n",
       "4                                 [عالی, بیست]   \n",
       "\n",
       "                                             comment        recommend  \n",
       "0  تازه خریدم یه مدت کار بکنه مشخص میشه کیفیت قطعاتش      recommended  \n",
       "1  با این قیمت گزینه های بهتری هم میشه گرفت.\\r\\nر...  not_recommended  \n",
       "2  خیلی عالیه، فقط کاش از اون سمتش میشد به پاوربا...      recommended  \n",
       "3  من این فیس براس چند روز یپش به دستم رسید و الا...  not_recommended  \n",
       "4  بنده یه هارد اکسترنال دارم که کابل فابریکش سال...      recommended  "
      ]
     },
     "execution_count": 21,
     "metadata": {},
     "output_type": "execute_result"
    }
   ],
   "source": [
    "#Title/Test\n",
    "testTitles = testData[\"title\"]\n",
    "size = testData.shape[0]\n",
    "for i in range(size):\n",
    "    tokenizedTitle = []\n",
    "    string = normalizer.normalize(testTitles[i])\n",
    "    for token in word_tokenize(string):\n",
    "        if token not in ignore:\n",
    "#             token = stemmer.stem(token)\n",
    "#             token = lemmatizer.lemmatize(token)\n",
    "            tokenizedTitle.append(token)\n",
    "    testTitles[i] = tokenizedTitle\n",
    "testData.head()"
   ]
  },
  {
   "cell_type": "code",
   "execution_count": 22,
   "metadata": {},
   "outputs": [
    {
     "data": {
      "text/html": [
       "<div>\n",
       "<style scoped>\n",
       "    .dataframe tbody tr th:only-of-type {\n",
       "        vertical-align: middle;\n",
       "    }\n",
       "\n",
       "    .dataframe tbody tr th {\n",
       "        vertical-align: top;\n",
       "    }\n",
       "\n",
       "    .dataframe thead th {\n",
       "        text-align: right;\n",
       "    }\n",
       "</style>\n",
       "<table border=\"1\" class=\"dataframe\">\n",
       "  <thead>\n",
       "    <tr style=\"text-align: right;\">\n",
       "      <th></th>\n",
       "      <th>title</th>\n",
       "      <th>comment</th>\n",
       "      <th>recommend</th>\n",
       "    </tr>\n",
       "  </thead>\n",
       "  <tbody>\n",
       "    <tr>\n",
       "      <th>0</th>\n",
       "      <td>[وری, گود]</td>\n",
       "      <td>[تازه, خریدم, یه, کار, بکنه, میشه, کیفیت, قطعاتش]</td>\n",
       "      <td>recommended</td>\n",
       "    </tr>\n",
       "    <tr>\n",
       "      <th>1</th>\n",
       "      <td>[مناسب, رنگ, میده, یه, وقتایی, موقع, نوشتن]</td>\n",
       "      <td>[قیمت, گزینه‌های, بهتری, میشه, روان, مینویسه, ...</td>\n",
       "      <td>not_recommended</td>\n",
       "    </tr>\n",
       "    <tr>\n",
       "      <th>2</th>\n",
       "      <td>[پنکه, گوشی]</td>\n",
       "      <td>[خیلی, عالیه, کاش, اون, سمتش, میشد, پاوربانک, ...</td>\n",
       "      <td>recommended</td>\n",
       "    </tr>\n",
       "    <tr>\n",
       "      <th>3</th>\n",
       "      <td>[دستگاه, خیلی, ضعیف]</td>\n",
       "      <td>[فیس, براس, روز, یپش, دستم, الان, روز, استفاده...</td>\n",
       "      <td>not_recommended</td>\n",
       "    </tr>\n",
       "    <tr>\n",
       "      <th>4</th>\n",
       "      <td>[عالی, بیست]</td>\n",
       "      <td>[بنده, یه, هارد, اکسترنال, دارم, کابل, فابریکش...</td>\n",
       "      <td>recommended</td>\n",
       "    </tr>\n",
       "  </tbody>\n",
       "</table>\n",
       "</div>"
      ],
      "text/plain": [
       "                                         title  \\\n",
       "0                                   [وری, گود]   \n",
       "1  [مناسب, رنگ, میده, یه, وقتایی, موقع, نوشتن]   \n",
       "2                                 [پنکه, گوشی]   \n",
       "3                         [دستگاه, خیلی, ضعیف]   \n",
       "4                                 [عالی, بیست]   \n",
       "\n",
       "                                             comment        recommend  \n",
       "0  [تازه, خریدم, یه, کار, بکنه, میشه, کیفیت, قطعاتش]      recommended  \n",
       "1  [قیمت, گزینه‌های, بهتری, میشه, روان, مینویسه, ...  not_recommended  \n",
       "2  [خیلی, عالیه, کاش, اون, سمتش, میشد, پاوربانک, ...      recommended  \n",
       "3  [فیس, براس, روز, یپش, دستم, الان, روز, استفاده...  not_recommended  \n",
       "4  [بنده, یه, هارد, اکسترنال, دارم, کابل, فابریکش...      recommended  "
      ]
     },
     "execution_count": 22,
     "metadata": {},
     "output_type": "execute_result"
    }
   ],
   "source": [
    "testComments = testData[\"comment\"]\n",
    "for i in range(size):\n",
    "    tokenizedComment = []\n",
    "    string = normalizer.normalize(testComments[i])\n",
    "    for token in word_tokenize(string):\n",
    "        if token not in ignore:\n",
    "#             token = stemmer.stem(token)\n",
    "#             token = lemmatizer.lemmatize(token)\n",
    "            tokenizedComment.append(token)\n",
    "    testComments[i] = tokenizedComment\n",
    "testData.head()"
   ]
  },
  {
   "cell_type": "markdown",
   "metadata": {
    "direction": "rtl"
   },
   "source": [
    "<div style=\"direction:rtl\">\n",
    " قبل از ورود به قسمت قبل باید ذکر شود جهت تصمیم گیری بهتر در راستای انتخاب مراحل پیش پردازش با حالات مختلف مراحل بعدی که در ادامه ذکرمی شود را تست کردم.نتایج این بررسی ها در ادامه و جای مناسب بیان می شوند. \n",
    "</div>"
   ]
  },
  {
   "cell_type": "code",
   "execution_count": 23,
   "metadata": {},
   "outputs": [],
   "source": [
    "#Part 2; Naive Bayes/ Bag of Words"
   ]
  },
  {
   "cell_type": "markdown",
   "metadata": {
    "direction": "rtl"
   },
   "source": [
    "## <div style=\"direction:rtl\">فاز دوم: فرآیند مسئله <div/>\n",
    "<div style=\"direction:rtl\">\n",
    "    در این مسئله می خواهیم با کمک Naive Bayes و مدل bag of words داده های تست را در دو کلاس دسته بندی کنیم. دیدگاه مدل bag of words این است که کلمات مستقل از جایگاهشان در عبارت بررسی می شود و صرفاً تعداد آن کلمه در هر کلاس برای تصمیم گیری مهم است. همچنین برای هر کلمه naive bayes به شکل زیر تعریف می شود. \n",
    "    </div>"
   ]
  },
  {
   "cell_type": "markdown",
   "metadata": {},
   "source": [
    "$$\n",
    "P(c|x) = \\frac{P(x|c)\\times P(c)}{P(x)}\n",
    "$$"
   ]
  },
  {
   "cell_type": "markdown",
   "metadata": {
    "direction": "rtl"
   },
   "source": [
    "<div style=\"direction:rtl\">\n",
    "<b>\n",
    "2)  &ensp; توضیح دهید که هر کدام از مفاهیم احتمالی ذکر شده در رابطه بالا بیانگر چه مفهومی در این مسئله هستند و چگونه محاسبه می شوند. \n",
    "    </b><br><br>\n",
    "    -$P(c|x)$ \n",
    "این مورد با نام posterior تعریف شده است. که درواقع بیانگره احتمال رخ دادن کلاس c به شرط وجود یک x که در اینجا یک عبارت خاص است. با کمک فرمول داده شده این عبارت محاسبه می شود. <br>در این مساله احتمال کلاس recommended به شرط عبارت x و همچنین برای not recommended است.<br><br>\n",
    "    -$P(x|c)$ \n",
    "این مورد با نام likelihood تعریف شده است. که در واقع بیانگره احتمال رخ دادن X به شرط وجود کلاس C است. <br> در اینجا مفهوم احتمال هر کلمه به شرط اینکه کلاس recommended (not recommended) باشد. برای محاسبه این عبارت کافی است تکرار هر کلمه یکبار در داده های recommended و یکبار در داده های not recommended محاسبه شود و سپس تقسیم بر تعداد کل کلمات آن کلاس شود.<br><br>\n",
    "    -$P(c)$\n",
    "این مورد با نام prior تعریف شده است که در واقع احتمال رخ دادن کلاس c است.<br> در اینجا به مفهوم احتمال اینکه نظر در جهت recommended باشد یا در جهت not recommended باشد؛ است. برای محاسبه آن کافی است تعداد کل نظرات recommended بر تعداد کل داده های train تقسیم شود و برای not recommended هم تعداد کل نظرات not recommended بر تعداد کل داده های train تقسیم شود.<br> <br<\n",
    "    -$P(x)$\n",
    "    این مورد با نام evidence تعریف شده است. که در واقع احتمال رخ دادن x در کل است.<br> در اینجا به معنای احتمال رخ دادن کلمه ای خاص در تمام داده های train است. برای محاسبه آن باید تعداد رخداد های هر کلمه را بر تعداد کل کلمات داده های train (تیتر و نظر)تقسیم کنیم.\n",
    "</div>"
   ]
  },
  {
   "cell_type": "markdown",
   "metadata": {
    "direction": "rtl"
   },
   "source": [
    "<div style=\"direction:rtl\">\n",
    "   عبارت بالا احتمال هر کلاس به شرط وجود یک لغت را بیان می کند حال باید احتمال رخ دادن هر کلاس به شزط وجود یک عبارت با کلمات $x_1$ تا $x_n$ را حساب کنیم. این احتمال به شکل زیر در می آید:\n",
    "    $$\n",
    "P(c|X) = \\frac{\\prod_{i=1}^{n} P(x_i|c)\\times P(c)}{P(X)}\n",
    "$$\n",
    "    در اصل صورت به شکل زیر بوده است:\n",
    "    $$\n",
    "   \\prod_{i=1}^{n} P(x_i|c,x_1,...,x_i-1) =  P(c, x_1, ... , x_n)$$ \n",
    "    می دانیم احتمال رخ دادن لغات به شرط هر دو کلاس از هم مستقل است. بنابراین عبارت بالا به شکل اولیه خلاصه می شود. همچنین مخرج کسر چه برای کلاس recommended و چه برای کلاس not recommended مقدار یکسانی دارد پس در مقایسه احتمالات دو حالت تاثیری ندارد؛ پس در دسته بندی نهایی تاثیری ندارد و می توان ازآن صرف نظر کرد و محاسبه نکرد.   \n",
    "</div>"
   ]
  },
  {
   "cell_type": "markdown",
   "metadata": {
    "direction": "rtl"
   },
   "source": [
    "<div style=\"direction:rtl\">\n",
    "    این نکته را باید در نظر بگیریم که از اینجا به بعد داده های ستون تیتر و نظرات با هم ادغام شده اند و باهم برای محاسبات احتمالات در نظر گرفته می شوند. علت هم این است که اکثر اوقات هم از تیتر و هم از متن نظر کاربر درباره محصولی مشخص می شود و تقریباً ارزشی یکسان دارند.<br>\n",
    "    حال بنا به توضیحات داده شده در بالا محاسبات لازم را مرحله به مرحله انجام می دهیم. ابتدا تعداد رخداد هر لغت در هر کلاس را محاسبه می کنیم. بدین جهت یک دیکشنری داریم که کلید آن لغات و مقدار هر کلید لیستی است که عضو اول تعداد در recommended و عضو دوم تعداد در not recommended است. \n",
    "    </div>"
   ]
  },
  {
   "cell_type": "code",
   "execution_count": 24,
   "metadata": {},
   "outputs": [],
   "source": [
    "#all Data Count\n",
    "def countWords(reColumn1, reColumn2, noColumn1, noColumn2):\n",
    "    recommended = reColumn1 + reColumn2\n",
    "    notRecommended = noColumn1 + noColumn2\n",
    "    result = dict()\n",
    "    for token in recommended:\n",
    "        if token in result:\n",
    "            result[token][0] += 1\n",
    "        else:\n",
    "            result[token] = [1, 0]\n",
    "    for token in notRecommended:\n",
    "        if token in result:\n",
    "            result[token][1] += 1\n",
    "        else:\n",
    "            result[token] = [0, 1]\n",
    "    return result"
   ]
  },
  {
   "cell_type": "code",
   "execution_count": 25,
   "metadata": {},
   "outputs": [
    {
     "data": {
      "text/plain": [
       "[628, 487]"
      ]
     },
     "execution_count": 25,
     "metadata": {},
     "output_type": "execute_result"
    }
   ],
   "source": [
    "#Data Count/With Preprocessing\n",
    "countDict = countWords(processTiReTr, processCoReTr, processTiNoTr, processCoNoTr)\n",
    "countDict['بسیار']"
   ]
  },
  {
   "cell_type": "markdown",
   "metadata": {
    "direction": "rtl"
   },
   "source": [
    "<div style=\"direction:rtl\">\n",
    "   برای ادامه محاسبات به تعدادی اطلاعات نیاز داریم. از جمله احتمال کلاس recommended و کلاس not recommended که طبق توضیحات بالا محاسبه می کنیم. \n",
    "    </div>"
   ]
  },
  {
   "cell_type": "code",
   "execution_count": 26,
   "metadata": {},
   "outputs": [],
   "source": [
    "#Probability recom/notRecom\n",
    "allTrainSize = trainData.shape[0]\n",
    "recommendedSize = recomTrainData.shape[0]\n",
    "notRecommendedSize = notRecomTrainData.shape[0]\n",
    "pRecom = (recommendedSize / allTrainSize)\n",
    "pNotRecom = (notRecommendedSize / allTrainSize)"
   ]
  },
  {
   "cell_type": "markdown",
   "metadata": {
    "direction": "rtl"
   },
   "source": [
    "<div style=\"direction:rtl\">\n",
    "    حال باید احتمال رخ دادن هر لغت به شرط وجود هر کلاس محاسبه شود. بدین جهت دیکشنری جدید می سازیم که کلید ها لغات و مقادیر هر کلید لیستی که عضو اول احتمال به شرط recommended و عضو دوم احتمال به شرط not recommended است.<br> این احتمالات به کمک دیکشنری مرحله قبل و با تقسیم عضو اول لیست مقادیر بر تمام کلمات recommended و تقسیم عضو دوم لیست مقادیر بر تمام کلمات not recommended به دست می آید.<br> در فرمول پایین یک مقدار آلفا مشاهده می کنیم که در ادامه علت آن توضیح داده می شود اما در این مرحله آن را صفر در نظر می گیریم. \n",
    "    </div>"
   ]
  },
  {
   "cell_type": "code",
   "execution_count": 27,
   "metadata": {},
   "outputs": [],
   "source": [
    "#Calculate Probability(word | Recommended) OR (word | notRecommended)\n",
    "def calculateProbability(reColumn1, reColumn2, noColumn1, noColumn2, counts, alpha):\n",
    "    result = dict()\n",
    "    allRecomSize = len(reColumn1) + len(reColumn2)\n",
    "    allNotRecomSize = len(noColumn1) + len(noColumn2)\n",
    "    for token in counts:\n",
    "        result[token] = [0, 0]\n",
    "        result[token][0] = ((counts[token][0] + alpha)/(allRecomSize + alpha*len(counts)))\n",
    "        result[token][1] = ((counts[token][1] + alpha)/(allNotRecomSize + alpha*len(counts)))\n",
    "    return result"
   ]
  },
  {
   "cell_type": "code",
   "execution_count": 28,
   "metadata": {},
   "outputs": [
    {
     "data": {
      "text/plain": [
       "[1.2816897798056958e-05, 0.0]"
      ]
     },
     "execution_count": 28,
     "metadata": {},
     "output_type": "execute_result"
    }
   ],
   "source": [
    "#probability; alpha = 0(without Additive Smoothing)\n",
    "pWord = calculateProbability(processTiReTr, processCoReTr, processTiNoTr, processCoNoTr, countDict, 0)\n",
    "pWord['کمکم']"
   ]
  },
  {
   "cell_type": "markdown",
   "metadata": {
    "direction": "rtl"
   },
   "source": [
    "<div style=\"direction:rtl\">\n",
    "    حال برای دسته بندی هر عبارت مراحل زیر را می پیماییم:( اینجا برای مفهوم بودن متن و وضوح بیشتر درباره کلاس recommended می گوییم، برای not recommended کلیت همین است با جایگذاری مقادیر مربوط به این کلاس)<br>\n",
    "    برای هر عبارت تست ابتدا ستون های تیتر و نظر را ادغام می کنیم. حال روی مجموعه عبارات جلو می رویم مقدار اولیه احتمال اینکه جمله مربوط به recommended باشد را احتمال کلی کلاس recommended می گذاریم. اگر توکنی که در جمله به آن می رسیم در مجموعه لغات train موجود نبود از آن می گذریم و آن را در نظر نمیگیریم. در غیر اینصورت طبق فرمولی که بالا تر بیان شد برای هر توکن عبارت عضو اولیه لیست مقدار آن در دیکشنری احتمالات را ضرب در احتمال اینکه جمله مربوط به recommended باشد؛ می کنیم. با پایان توکن ها احتمال اینکه کلاس مربوط به recommended باشد را داریم.<br> حال دو حالت رخ میدهد:<br> \n",
    "    1- احتمال تعلق به دو کلاس یکسان باشد: در این حالت با کمک عدد رندوم به احتمال پنجاه درصد آن را به recommended نسبت می دهیم و به احتمال پنجاه درصد به کلاس not recommended. این کار کمک می کند از جهت گیری دسته بندمان و هدایت اجباری داده ها به یک کلاس جلوگیری شود و با کمک اعداد تصادفی به هر دو کلاس شانس بدهیم.<br>\n",
    "    2- احتمال تعلق به یک کلاس بیشتر بود: این عبارت در دسته آن کلاس قرار می گیرد.<br>\n",
    "    سپس با توجه به کلاس هایی که هر عبارت را به آن نسبت داده ایم و مقایسه با ستون recommend داده های تست تعداد دسته بندی های درست را حساب می کنیم. \n",
    "    </div>"
   ]
  },
  {
   "cell_type": "code",
   "execution_count": 29,
   "metadata": {},
   "outputs": [],
   "source": [
    "#Validation\n",
    "def validate(column1, column2, column3, reProb, notReProb, allTokenProb):\n",
    "    dataToTest = column1 + column2\n",
    "    numberOfRow = -1\n",
    "    result = 0\n",
    "    allRe = 0\n",
    "    correctRe = 0\n",
    "    same = []\n",
    "    wrong = []\n",
    "    for sentence in dataToTest:\n",
    "        numberOfRow += 1\n",
    "        pWordRecom = reProb\n",
    "        pWordNot = notReProb\n",
    "        for token in sentence:\n",
    "            if token in allTokenProb:\n",
    "                pWordRecom *= allTokenProb[token][0]\n",
    "                pWordNot *= allTokenProb[token][1]\n",
    "        if (pWordRecom == pWordNot):\n",
    "            same.append(numberOfRow)\n",
    "            num = (random.randint(0, 9))\n",
    "            if(num % 2 == 0):\n",
    "                allRe += 1\n",
    "                if(column3[numberOfRow] == \"recommended\"):\n",
    "                    correctRe += 1\n",
    "                    result += 1\n",
    "            else:\n",
    "                if(column3[numberOfRow] == \"not_recommended\"):\n",
    "                    result += 1\n",
    "        elif(pWordRecom > pWordNot):\n",
    "            allRe += 1\n",
    "            if(column3[numberOfRow] == \"recommended\"):\n",
    "                correctRe += 1\n",
    "                result += 1\n",
    "            else:\n",
    "                wrong.append(numberOfRow)\n",
    "        else:\n",
    "            if(column3[numberOfRow] == \"not_recommended\"):\n",
    "                result += 1\n",
    "            else:\n",
    "                wrong.append(numberOfRow)\n",
    "    return [result, allRe, correctRe, wrong, same]"
   ]
  },
  {
   "cell_type": "code",
   "execution_count": 30,
   "metadata": {},
   "outputs": [
    {
     "data": {
      "text/plain": [
       "[718, 408, 363]"
      ]
     },
     "execution_count": 30,
     "metadata": {},
     "output_type": "execute_result"
    }
   ],
   "source": [
    "#With Pish/ Without Additive \n",
    "output = validate(testData[\"title\"], testData[\"comment\"], testData[\"recommend\"], pRecom, pNotRecom, pWord)\n",
    "# resultToCheck.append(output[0])\n",
    "# resultToCheck\n",
    "correct = output[0]\n",
    "allRe = output[1]\n",
    "correctRe = output[2]\n",
    "output[0:3]"
   ]
  },
  {
   "cell_type": "markdown",
   "metadata": {
    "direction": "rtl"
   },
   "source": [
    "### <div style=\"direction:rtl\"> مقایسه چهارحالت پیش پردازش</div>\n",
    "<div style=\"direction:rtl\">\n",
    "    همانطور که در پایان بخش پیش پردازش گفتیم چهار حالت مختلف پیش پردازش را تست کردیم. برای مثال در این بخش چهار بار تست کردیم و مقدار عبارات تشخیصی صحیح را در یک لیست ذخیره کردیم و سپس این عبارات را به یک دیتافریم تبدیل کردیم و آن را در یک csv ذخیره کردیم. فایل csv کنار پروژه موجود است. اما مقادیر آن در زیر قابل مشاهده است. \n",
    "    </div>"
   ]
  },
  {
   "cell_type": "code",
   "execution_count": 31,
   "metadata": {},
   "outputs": [],
   "source": [
    "# df = pd.DataFrame(resultToCheck, index =[\"stemming & lemmatization\", \"just lemmatization\", \"just stemming\", \"just ignoring stop words\"], columns =[\"correct Count\"])\n",
    "# df.to_csv('checkWithoutAdditive.csv')\n",
    "# df"
   ]
  },
  {
   "cell_type": "code",
   "execution_count": 32,
   "metadata": {},
   "outputs": [
    {
     "data": {
      "text/html": [
       "<div>\n",
       "<style scoped>\n",
       "    .dataframe tbody tr th:only-of-type {\n",
       "        vertical-align: middle;\n",
       "    }\n",
       "\n",
       "    .dataframe tbody tr th {\n",
       "        vertical-align: top;\n",
       "    }\n",
       "\n",
       "    .dataframe thead th {\n",
       "        text-align: right;\n",
       "    }\n",
       "</style>\n",
       "<table border=\"1\" class=\"dataframe\">\n",
       "  <thead>\n",
       "    <tr style=\"text-align: right;\">\n",
       "      <th></th>\n",
       "      <th>Unnamed: 0</th>\n",
       "      <th>correct Count</th>\n",
       "    </tr>\n",
       "  </thead>\n",
       "  <tbody>\n",
       "    <tr>\n",
       "      <th>0</th>\n",
       "      <td>stemming &amp; lemmatization</td>\n",
       "      <td>715</td>\n",
       "    </tr>\n",
       "    <tr>\n",
       "      <th>1</th>\n",
       "      <td>just lemmatization</td>\n",
       "      <td>720</td>\n",
       "    </tr>\n",
       "    <tr>\n",
       "      <th>2</th>\n",
       "      <td>just stemming</td>\n",
       "      <td>715</td>\n",
       "    </tr>\n",
       "    <tr>\n",
       "      <th>3</th>\n",
       "      <td>just ignoring stop words</td>\n",
       "      <td>721</td>\n",
       "    </tr>\n",
       "  </tbody>\n",
       "</table>\n",
       "</div>"
      ],
      "text/plain": [
       "                 Unnamed: 0  correct Count\n",
       "0  stemming & lemmatization            715\n",
       "1        just lemmatization            720\n",
       "2             just stemming            715\n",
       "3  just ignoring stop words            721"
      ]
     },
     "execution_count": 32,
     "metadata": {},
     "output_type": "execute_result"
    }
   ],
   "source": [
    "df = pd.read_csv('checkWithoutAdditive.csv')\n",
    "df"
   ]
  },
  {
   "cell_type": "code",
   "execution_count": 33,
   "metadata": {},
   "outputs": [
    {
     "data": {
      "text/plain": [
       "Text(0, 0.5, 'Number of Correct detected')"
      ]
     },
     "execution_count": 33,
     "metadata": {},
     "output_type": "execute_result"
    },
    {
     "data": {
      "image/png": "[encoded data removed]",
      "text/plain": [
       "<Figure size 720x360 with 1 Axes>"
      ]
     },
     "metadata": {
      "needs_background": "light"
     },
     "output_type": "display_data"
    }
   ],
   "source": [
    "df = pd.read_csv('checkWithoutAdditive.csv')\n",
    "y = df[\"correct Count\"]\n",
    "x = df[\"Unnamed: 0\"]\n",
    "mplot.figure(figsize=(10,5))\n",
    "mplot.plot(x,y,'--o')\n",
    "mplot.xlabel(\"PreProcessing Method\")\n",
    "mplot.ylabel(\"Number of Correct detected\")\n",
    "# df.plot(\"Unnamed: 0\", \"correct Count\" )"
   ]
  },
  {
   "cell_type": "markdown",
   "metadata": {
    "direction": "rtl"
   },
   "source": [
    "<div style=\"direction:rtl\">\n",
    "    بنابراین در این شرایط حالتی که تنها کلمات پرتکرار حذف شوند بیشترین داده را صحیح تشخیص می دهد. \n",
    "    </div>"
   ]
  },
  {
   "cell_type": "markdown",
   "metadata": {
    "direction": "rtl"
   },
   "source": [
    "### <div style=\"direction:rtl\">Additive Smoothing</div>\n",
    "<div style=\"direction:rtl\">\n",
    "<b>\n",
    "3)  &ensp; با درنظر داشتن naive bayes توضیح دهید چرا اتفاق توضیح داده شده در صورت پروژه رخ می دهد. \n",
    "    </b><br><br>\n",
    "   همانطور که در روش محاسبه احتمال در بالا توضیح داده شد احتمال کلاس c به شرط عبارت x برابر با حاصل ضرب احتمال توکن های آن عبارت به شرط کلاس c در هم و در نهایت در احتمال کلاس c است. حال فرض کنیم یک توکنی باشد که در کلاس c هیچ وقت در داده های train دیده نشده باشد پس طبق محاسبات بالا احتمال توکن x به شرط آن کلاس صفر می شود. یعنی یکی از عبارات درون ضرب صفر می شود پس کل احتمال کلاس c به شرط آن کلاس صفر می شود و دسته بند با احتمال صد در صد عبارت را متعلق به کلاس دیگر ارزیابی می کند.<br><br>\n",
    "    <b>\n",
    "4)  &ensp; روش Additive Smoothing را توضیح دهید و بگویید چطور به حل این مشکل کمک می کند. \n",
    "    </b><br><br>\n",
    "    این روش سعی دارد داده ها را به گونه هموار کند. بدین معنا که با افزودن یک مقداری مانند آلفا که بین صفر و یک است به تعداد داده ها احتمالی که آن داده رخ می دهد را تغییر دهیم. در اصل به صورت احتمالی که محاسبه می کنیم(تعداد داده ها در آن کلاس) آلفا را اضافه می کنیم. سپس به ازای هر داده آلفا تا داده جدید به مخرج که تعداد کل داده ها در آن کلاس است می افزاییم. آلفا یک هایپرپارامتر است که اکثراً زیر یک در نظر گرفته میشود. اینجا آلفا نیم است.<br> کمکی که این روش به ما در راستای مشکل بالا می کند این است که با داده ای که احتمال صفر داشته است احتمال بسیار کمی را می افزاید تا نه با بزرگ در نظر گرفتن احتمال دسته بندی را بسیار جهت گیرانه و غیر واقعی کنیم و همچنین به کل آن عبارت شانسی بدهد که احتمالش محاسبه و بررسی شود و احتمال قطعی صفر نشود. \n",
    "</div>"
   ]
  },
  {
   "cell_type": "code",
   "execution_count": 34,
   "metadata": {},
   "outputs": [
    {
     "data": {
      "text/plain": [
       "[1.7271256599059293e-05, 6.320513225673925e-06]"
      ]
     },
     "execution_count": 34,
     "metadata": {},
     "output_type": "execute_result"
    }
   ],
   "source": [
    "#probability; alpha = 0.5(with Additive Smoothing)\n",
    "pWordAS = calculateProbability(processTiReTr, processCoReTr, processTiNoTr, processCoNoTr, countDict, 0.5)\n",
    "pWordAS['کمکم']"
   ]
  },
  {
   "cell_type": "code",
   "execution_count": 35,
   "metadata": {},
   "outputs": [
    {
     "data": {
      "text/plain": [
       "[744, 402, 373]"
      ]
     },
     "execution_count": 35,
     "metadata": {},
     "output_type": "execute_result"
    }
   ],
   "source": [
    "#With Pish/ With Additive \n",
    "outputAS = validate(testData[\"title\"], testData[\"comment\"], testData[\"recommend\"], pRecom, pNotRecom, pWordAS)\n",
    "# resultToCheckAS.append(outputAS[0])\n",
    "# resultToCheckAS \n",
    "correctAS = outputAS[0]\n",
    "allReAS = outputAS[1]\n",
    "correctReAS = outputAS[2]\n",
    "wrong = outputAS[3]\n",
    "same = output[4]\n",
    "outputAS[0:3]"
   ]
  },
  {
   "cell_type": "markdown",
   "metadata": {
    "direction": "rtl"
   },
   "source": [
    "### <div style=\"direction:rtl\"> مقایسه چهارحالت پیش پردازش</div>\n",
    "<div style=\"direction:rtl\">\n",
    "    همانطور که در پایان بخش پیش پردازش گفتیم چهار حالت مختلف پیش پردازش را تست کردیم. برای مثال در این بخش چهار بار تست کردیم و مقدار عبارات تشخیصی صحیح را در یک لیست ذخیره کردیم و سپس این عبارات را به یک دیتافریم تبدیل کردیم و آن را در یک csv ذخیره کردیم. فایل csv کنار پروژه موجود است. اما مقادیر آن در زیر قابل مشاهده است. \n",
    "    </div>"
   ]
  },
  {
   "cell_type": "code",
   "execution_count": 36,
   "metadata": {},
   "outputs": [],
   "source": [
    "# df1 = pd.DataFrame(resultToCheckAS, index =[\"stemming & lemmatization\", \"just lemmatization\", \"just stemming\", \"just ignoring stop words\"], columns =[\"correct Count\"])\n",
    "# df1.to_csv('checkWithAdditive.csv')\n",
    "# df1"
   ]
  },
  {
   "cell_type": "code",
   "execution_count": 37,
   "metadata": {},
   "outputs": [
    {
     "data": {
      "text/html": [
       "<div>\n",
       "<style scoped>\n",
       "    .dataframe tbody tr th:only-of-type {\n",
       "        vertical-align: middle;\n",
       "    }\n",
       "\n",
       "    .dataframe tbody tr th {\n",
       "        vertical-align: top;\n",
       "    }\n",
       "\n",
       "    .dataframe thead th {\n",
       "        text-align: right;\n",
       "    }\n",
       "</style>\n",
       "<table border=\"1\" class=\"dataframe\">\n",
       "  <thead>\n",
       "    <tr style=\"text-align: right;\">\n",
       "      <th></th>\n",
       "      <th>Unnamed: 0</th>\n",
       "      <th>correct Count</th>\n",
       "    </tr>\n",
       "  </thead>\n",
       "  <tbody>\n",
       "    <tr>\n",
       "      <th>0</th>\n",
       "      <td>stemming &amp; lemmatization</td>\n",
       "      <td>747</td>\n",
       "    </tr>\n",
       "    <tr>\n",
       "      <th>1</th>\n",
       "      <td>just lemmatization</td>\n",
       "      <td>740</td>\n",
       "    </tr>\n",
       "    <tr>\n",
       "      <th>2</th>\n",
       "      <td>just stemming</td>\n",
       "      <td>743</td>\n",
       "    </tr>\n",
       "    <tr>\n",
       "      <th>3</th>\n",
       "      <td>just ignoring stop words</td>\n",
       "      <td>748</td>\n",
       "    </tr>\n",
       "  </tbody>\n",
       "</table>\n",
       "</div>"
      ],
      "text/plain": [
       "                 Unnamed: 0  correct Count\n",
       "0  stemming & lemmatization            747\n",
       "1        just lemmatization            740\n",
       "2             just stemming            743\n",
       "3  just ignoring stop words            748"
      ]
     },
     "execution_count": 37,
     "metadata": {},
     "output_type": "execute_result"
    }
   ],
   "source": [
    "df1 = pd.read_csv('checkWithAdditive.csv')\n",
    "df1"
   ]
  },
  {
   "cell_type": "code",
   "execution_count": 38,
   "metadata": {},
   "outputs": [
    {
     "data": {
      "text/plain": [
       "Text(0, 0.5, 'Number of Correct detected')"
      ]
     },
     "execution_count": 38,
     "metadata": {},
     "output_type": "execute_result"
    },
    {
     "data": {
      "image/png": "[encoded data removed]",
      "text/plain": [
       "<Figure size 720x360 with 1 Axes>"
      ]
     },
     "metadata": {
      "needs_background": "light"
     },
     "output_type": "display_data"
    }
   ],
   "source": [
    "df1 = pd.read_csv('checkWithAdditive.csv')\n",
    "y = df1[\"correct Count\"]\n",
    "x = df1[\"Unnamed: 0\"]\n",
    "mplot.figure(figsize=(10,5))\n",
    "mplot.plot(x,y,'--o')\n",
    "mplot.xlabel(\"PreProcessing Method\")\n",
    "mplot.ylabel(\"Number of Correct detected\")\n",
    "# df1.plot()"
   ]
  },
  {
   "cell_type": "markdown",
   "metadata": {
    "direction": "rtl"
   },
   "source": [
    "<div style=\"direction:rtl\">\n",
    "    بنابراین در این شرایط حالتی که تنها کلمات پرتکرار حذف شوند بیشترین داده را صحیح تشخیص می دهد. \n",
    "    </div>"
   ]
  },
  {
   "cell_type": "markdown",
   "metadata": {
    "direction": "rtl"
   },
   "source": [
    "### <div style=\"direction:rtl\"> بدون پیش پردازش</div>\n",
    "    \n",
    "   <div style=\"direction:rtl\">\n",
    "   در قسمت های بعد برای ارزیابی دقیق تر حالات مختلف، یکی از حالاتی که باید بررسی شود این است که داده پیش پردازشی نداشته باشد. بدین جهت ما روی داده هیچ تفاوتی ایجاد نمی کنیم و تنها آن را توکن بندی مب کنیم تا احتمالات را بتوان محاسبه کرد. نه normalization و نه حذف کلمات پرتکرار را دیگر انجام نمی دهیم.<br>\n",
    "   این قسمت تا شروع فاز سوم یعنی همان ارزیابی تنها تکرار مراحل فوق اما با داده ها و ستون های تنها توکن بندی شده و بدون پیش پردازش. \n",
    "    </div>"
   ]
  },
  {
   "cell_type": "code",
   "execution_count": 39,
   "metadata": {},
   "outputs": [],
   "source": [
    "#Just Tokenize\n",
    "def token(column):\n",
    "    result = []\n",
    "    for string in column:\n",
    "#         string = normalizer.normalize(string)\n",
    "        for token in word_tokenize(string):\n",
    "            result.append(token)\n",
    "    return result"
   ]
  },
  {
   "cell_type": "code",
   "execution_count": 40,
   "metadata": {},
   "outputs": [
    {
     "data": {
      "text/plain": [
       "['بسیار', 'عالی', 'قیمت', 'بالا', 'جای']"
      ]
     },
     "execution_count": 40,
     "metadata": {},
     "output_type": "execute_result"
    }
   ],
   "source": [
    "#Title/Recom/Train\n",
    "TiReTr = token(recomTrainData[\"title\"])\n",
    "TiReTr[0:5]"
   ]
  },
  {
   "cell_type": "code",
   "execution_count": 41,
   "metadata": {},
   "outputs": [
    {
     "data": {
      "text/plain": [
       "['بسیار', 'عالی', 'خوب', 'و', 'تاثیر']"
      ]
     },
     "execution_count": 41,
     "metadata": {},
     "output_type": "execute_result"
    }
   ],
   "source": [
    "#Comment/Recom/Train\n",
    "CoReTr = token(recomTrainData[\"comment\"])\n",
    "CoReTr[0:5]"
   ]
  },
  {
   "cell_type": "code",
   "execution_count": 42,
   "metadata": {},
   "outputs": [
    {
     "data": {
      "text/plain": [
       "['زیبا', 'اما', 'کم', 'دوام', 'سلام']"
      ]
     },
     "execution_count": 42,
     "metadata": {},
     "output_type": "execute_result"
    }
   ],
   "source": [
    "#Title/NotRecom/Train\n",
    "TiNoTr = token(notRecomTrainData[\"title\"])\n",
    "TiNoTr[0:5]"
   ]
  },
  {
   "cell_type": "code",
   "execution_count": 43,
   "metadata": {},
   "outputs": [
    {
     "data": {
      "text/plain": [
       "['با', 'وجود', 'سابقه', 'خوبی', 'که']"
      ]
     },
     "execution_count": 43,
     "metadata": {},
     "output_type": "execute_result"
    }
   ],
   "source": [
    "#Comment/NotRecom/Train\n",
    "CoNoTr = token(notRecomTrainData[\"comment\"])\n",
    "CoNoTr[0:5]"
   ]
  },
  {
   "cell_type": "code",
   "execution_count": 44,
   "metadata": {},
   "outputs": [
    {
     "data": {
      "text/html": [
       "<div>\n",
       "<style scoped>\n",
       "    .dataframe tbody tr th:only-of-type {\n",
       "        vertical-align: middle;\n",
       "    }\n",
       "\n",
       "    .dataframe tbody tr th {\n",
       "        vertical-align: top;\n",
       "    }\n",
       "\n",
       "    .dataframe thead th {\n",
       "        text-align: right;\n",
       "    }\n",
       "</style>\n",
       "<table border=\"1\" class=\"dataframe\">\n",
       "  <thead>\n",
       "    <tr style=\"text-align: right;\">\n",
       "      <th></th>\n",
       "      <th>title</th>\n",
       "      <th>comment</th>\n",
       "      <th>recommend</th>\n",
       "    </tr>\n",
       "  </thead>\n",
       "  <tbody>\n",
       "    <tr>\n",
       "      <th>0</th>\n",
       "      <td>وری گود</td>\n",
       "      <td>تازه خریدم یه مدت کار بکنه مشخص میشه کیفیت قطعاتش</td>\n",
       "      <td>recommended</td>\n",
       "    </tr>\n",
       "    <tr>\n",
       "      <th>1</th>\n",
       "      <td>زیاد مناسب نیست رنگ پس میده یه وقتایی موقع نوشتن</td>\n",
       "      <td>با این قیمت گزینه های بهتری هم میشه گرفت.\\r\\nر...</td>\n",
       "      <td>not_recommended</td>\n",
       "    </tr>\n",
       "    <tr>\n",
       "      <th>2</th>\n",
       "      <td>پنکه گوشی</td>\n",
       "      <td>خیلی عالیه، فقط کاش از اون سمتش میشد به پاوربا...</td>\n",
       "      <td>recommended</td>\n",
       "    </tr>\n",
       "    <tr>\n",
       "      <th>3</th>\n",
       "      <td>دستگاه خیلی ضعیف</td>\n",
       "      <td>من این فیس براس چند روز یپش به دستم رسید و الا...</td>\n",
       "      <td>not_recommended</td>\n",
       "    </tr>\n",
       "    <tr>\n",
       "      <th>4</th>\n",
       "      <td>عالی و بیست</td>\n",
       "      <td>بنده یه هارد اکسترنال دارم که کابل فابریکش سال...</td>\n",
       "      <td>recommended</td>\n",
       "    </tr>\n",
       "    <tr>\n",
       "      <th>...</th>\n",
       "      <td>...</td>\n",
       "      <td>...</td>\n",
       "      <td>...</td>\n",
       "    </tr>\n",
       "    <tr>\n",
       "      <th>795</th>\n",
       "      <td>بسیار کوچیک</td>\n",
       "      <td>طراحیش قشنگه ولی  داخل عکس خیلی بزرگتر ب چشم م...</td>\n",
       "      <td>not_recommended</td>\n",
       "    </tr>\n",
       "    <tr>\n",
       "      <th>796</th>\n",
       "      <td>لامپ چینی</td>\n",
       "      <td>این لامپ چینی هستتش کیفیت پایین . نور کم و فاق...</td>\n",
       "      <td>not_recommended</td>\n",
       "    </tr>\n",
       "    <tr>\n",
       "      <th>797</th>\n",
       "      <td>خوب بود</td>\n",
       "      <td>در کل از این خریدم راضی هستم و به تناسب قیمتش ...</td>\n",
       "      <td>recommended</td>\n",
       "    </tr>\n",
       "    <tr>\n",
       "      <th>798</th>\n",
       "      <td>کیفیت خوبی داره</td>\n",
       "      <td>تازع نصبش کردم-سرعت انتقال و نصب بازی روش عالی...</td>\n",
       "      <td>recommended</td>\n",
       "    </tr>\n",
       "    <tr>\n",
       "      <th>799</th>\n",
       "      <td>از خریدم پشیمونم</td>\n",
       "      <td>نسبت به باطری اصلی فقط 60% کار میکنه\\r\\nالان د...</td>\n",
       "      <td>not_recommended</td>\n",
       "    </tr>\n",
       "  </tbody>\n",
       "</table>\n",
       "<p>800 rows × 3 columns</p>\n",
       "</div>"
      ],
      "text/plain": [
       "                                                title  \\\n",
       "0                                             وری گود   \n",
       "1    زیاد مناسب نیست رنگ پس میده یه وقتایی موقع نوشتن   \n",
       "2                                           پنکه گوشی   \n",
       "3                                    دستگاه خیلی ضعیف   \n",
       "4                                         عالی و بیست   \n",
       "..                                                ...   \n",
       "795                                       بسیار کوچیک   \n",
       "796                                         لامپ چینی   \n",
       "797                                           خوب بود   \n",
       "798                                   کیفیت خوبی داره   \n",
       "799                                  از خریدم پشیمونم   \n",
       "\n",
       "                                               comment        recommend  \n",
       "0    تازه خریدم یه مدت کار بکنه مشخص میشه کیفیت قطعاتش      recommended  \n",
       "1    با این قیمت گزینه های بهتری هم میشه گرفت.\\r\\nر...  not_recommended  \n",
       "2    خیلی عالیه، فقط کاش از اون سمتش میشد به پاوربا...      recommended  \n",
       "3    من این فیس براس چند روز یپش به دستم رسید و الا...  not_recommended  \n",
       "4    بنده یه هارد اکسترنال دارم که کابل فابریکش سال...      recommended  \n",
       "..                                                 ...              ...  \n",
       "795  طراحیش قشنگه ولی  داخل عکس خیلی بزرگتر ب چشم م...  not_recommended  \n",
       "796  این لامپ چینی هستتش کیفیت پایین . نور کم و فاق...  not_recommended  \n",
       "797  در کل از این خریدم راضی هستم و به تناسب قیمتش ...      recommended  \n",
       "798  تازع نصبش کردم-سرعت انتقال و نصب بازی روش عالی...      recommended  \n",
       "799  نسبت به باطری اصلی فقط 60% کار میکنه\\r\\nالان د...  not_recommended  \n",
       "\n",
       "[800 rows x 3 columns]"
      ]
     },
     "execution_count": 44,
     "metadata": {},
     "output_type": "execute_result"
    }
   ],
   "source": [
    "testData1 = pd.read_csv(\"comment_test.csv\")\n",
    "testData1"
   ]
  },
  {
   "cell_type": "code",
   "execution_count": 45,
   "metadata": {},
   "outputs": [
    {
     "data": {
      "text/html": [
       "<div>\n",
       "<style scoped>\n",
       "    .dataframe tbody tr th:only-of-type {\n",
       "        vertical-align: middle;\n",
       "    }\n",
       "\n",
       "    .dataframe tbody tr th {\n",
       "        vertical-align: top;\n",
       "    }\n",
       "\n",
       "    .dataframe thead th {\n",
       "        text-align: right;\n",
       "    }\n",
       "</style>\n",
       "<table border=\"1\" class=\"dataframe\">\n",
       "  <thead>\n",
       "    <tr style=\"text-align: right;\">\n",
       "      <th></th>\n",
       "      <th>title</th>\n",
       "      <th>comment</th>\n",
       "      <th>recommend</th>\n",
       "    </tr>\n",
       "  </thead>\n",
       "  <tbody>\n",
       "    <tr>\n",
       "      <th>0</th>\n",
       "      <td>[وری, گود]</td>\n",
       "      <td>تازه خریدم یه مدت کار بکنه مشخص میشه کیفیت قطعاتش</td>\n",
       "      <td>recommended</td>\n",
       "    </tr>\n",
       "    <tr>\n",
       "      <th>1</th>\n",
       "      <td>[زیاد, مناسب, نیست, رنگ, پس, میده, یه, وقتایی,...</td>\n",
       "      <td>با این قیمت گزینه های بهتری هم میشه گرفت.\\r\\nر...</td>\n",
       "      <td>not_recommended</td>\n",
       "    </tr>\n",
       "    <tr>\n",
       "      <th>2</th>\n",
       "      <td>[پنکه, گوشی]</td>\n",
       "      <td>خیلی عالیه، فقط کاش از اون سمتش میشد به پاوربا...</td>\n",
       "      <td>recommended</td>\n",
       "    </tr>\n",
       "    <tr>\n",
       "      <th>3</th>\n",
       "      <td>[دستگاه, خیلی, ضعیف]</td>\n",
       "      <td>من این فیس براس چند روز یپش به دستم رسید و الا...</td>\n",
       "      <td>not_recommended</td>\n",
       "    </tr>\n",
       "    <tr>\n",
       "      <th>4</th>\n",
       "      <td>[عالی, و, بیست]</td>\n",
       "      <td>بنده یه هارد اکسترنال دارم که کابل فابریکش سال...</td>\n",
       "      <td>recommended</td>\n",
       "    </tr>\n",
       "  </tbody>\n",
       "</table>\n",
       "</div>"
      ],
      "text/plain": [
       "                                               title  \\\n",
       "0                                         [وری, گود]   \n",
       "1  [زیاد, مناسب, نیست, رنگ, پس, میده, یه, وقتایی,...   \n",
       "2                                       [پنکه, گوشی]   \n",
       "3                               [دستگاه, خیلی, ضعیف]   \n",
       "4                                    [عالی, و, بیست]   \n",
       "\n",
       "                                             comment        recommend  \n",
       "0  تازه خریدم یه مدت کار بکنه مشخص میشه کیفیت قطعاتش      recommended  \n",
       "1  با این قیمت گزینه های بهتری هم میشه گرفت.\\r\\nر...  not_recommended  \n",
       "2  خیلی عالیه، فقط کاش از اون سمتش میشد به پاوربا...      recommended  \n",
       "3  من این فیس براس چند روز یپش به دستم رسید و الا...  not_recommended  \n",
       "4  بنده یه هارد اکسترنال دارم که کابل فابریکش سال...      recommended  "
      ]
     },
     "execution_count": 45,
     "metadata": {},
     "output_type": "execute_result"
    }
   ],
   "source": [
    "#Title/Test\n",
    "testTitles1 = testData1[\"title\"]\n",
    "size = testData1.shape[0]\n",
    "for i in range(size):\n",
    "    tokenizedTitle = []\n",
    "    for token in word_tokenize(testTitles1[i]):\n",
    "        tokenizedTitle.append(token)\n",
    "    testTitles1[i] = tokenizedTitle\n",
    "# print(testTitles[2])\n",
    "testData1.head()"
   ]
  },
  {
   "cell_type": "code",
   "execution_count": 46,
   "metadata": {},
   "outputs": [
    {
     "data": {
      "text/html": [
       "<div>\n",
       "<style scoped>\n",
       "    .dataframe tbody tr th:only-of-type {\n",
       "        vertical-align: middle;\n",
       "    }\n",
       "\n",
       "    .dataframe tbody tr th {\n",
       "        vertical-align: top;\n",
       "    }\n",
       "\n",
       "    .dataframe thead th {\n",
       "        text-align: right;\n",
       "    }\n",
       "</style>\n",
       "<table border=\"1\" class=\"dataframe\">\n",
       "  <thead>\n",
       "    <tr style=\"text-align: right;\">\n",
       "      <th></th>\n",
       "      <th>title</th>\n",
       "      <th>comment</th>\n",
       "      <th>recommend</th>\n",
       "    </tr>\n",
       "  </thead>\n",
       "  <tbody>\n",
       "    <tr>\n",
       "      <th>0</th>\n",
       "      <td>[وری, گود]</td>\n",
       "      <td>[تازه, خریدم, یه, مدت, کار, بکنه, مشخص, میشه, ...</td>\n",
       "      <td>recommended</td>\n",
       "    </tr>\n",
       "    <tr>\n",
       "      <th>1</th>\n",
       "      <td>[زیاد, مناسب, نیست, رنگ, پس, میده, یه, وقتایی,...</td>\n",
       "      <td>[با, این, قیمت, گزینه, های, بهتری, هم, میشه, گ...</td>\n",
       "      <td>not_recommended</td>\n",
       "    </tr>\n",
       "    <tr>\n",
       "      <th>2</th>\n",
       "      <td>[پنکه, گوشی]</td>\n",
       "      <td>[خیلی, عالیه, ،, فقط, کاش, از, اون, سمتش, میشد...</td>\n",
       "      <td>recommended</td>\n",
       "    </tr>\n",
       "    <tr>\n",
       "      <th>3</th>\n",
       "      <td>[دستگاه, خیلی, ضعیف]</td>\n",
       "      <td>[من, این, فیس, براس, چند, روز, یپش, به, دستم, ...</td>\n",
       "      <td>not_recommended</td>\n",
       "    </tr>\n",
       "    <tr>\n",
       "      <th>4</th>\n",
       "      <td>[عالی, و, بیست]</td>\n",
       "      <td>[بنده, یه, هارد, اکسترنال, دارم, که, کابل, فاب...</td>\n",
       "      <td>recommended</td>\n",
       "    </tr>\n",
       "  </tbody>\n",
       "</table>\n",
       "</div>"
      ],
      "text/plain": [
       "                                               title  \\\n",
       "0                                         [وری, گود]   \n",
       "1  [زیاد, مناسب, نیست, رنگ, پس, میده, یه, وقتایی,...   \n",
       "2                                       [پنکه, گوشی]   \n",
       "3                               [دستگاه, خیلی, ضعیف]   \n",
       "4                                    [عالی, و, بیست]   \n",
       "\n",
       "                                             comment        recommend  \n",
       "0  [تازه, خریدم, یه, مدت, کار, بکنه, مشخص, میشه, ...      recommended  \n",
       "1  [با, این, قیمت, گزینه, های, بهتری, هم, میشه, گ...  not_recommended  \n",
       "2  [خیلی, عالیه, ،, فقط, کاش, از, اون, سمتش, میشد...      recommended  \n",
       "3  [من, این, فیس, براس, چند, روز, یپش, به, دستم, ...  not_recommended  \n",
       "4  [بنده, یه, هارد, اکسترنال, دارم, که, کابل, فاب...      recommended  "
      ]
     },
     "execution_count": 46,
     "metadata": {},
     "output_type": "execute_result"
    }
   ],
   "source": [
    "#Comment/Test\n",
    "testComments1 = testData1[\"comment\"]\n",
    "for i in range(size):\n",
    "    tokenizedComment = []\n",
    "#     string = normalizer.normalize(testComments[i])\n",
    "    for token in word_tokenize(testComments1[i]):\n",
    "        tokenizedComment.append(token)\n",
    "    testComments1[i] = tokenizedComment\n",
    "testData1.head()"
   ]
  },
  {
   "cell_type": "code",
   "execution_count": 47,
   "metadata": {},
   "outputs": [
    {
     "data": {
      "text/plain": [
       "[629, 488]"
      ]
     },
     "execution_count": 47,
     "metadata": {},
     "output_type": "execute_result"
    }
   ],
   "source": [
    "#Data Count/Without Preprocessing\n",
    "countDict1 = countWords(TiReTr, CoReTr, TiNoTr, CoNoTr)\n",
    "countDict1['بسیار']"
   ]
  },
  {
   "cell_type": "code",
   "execution_count": 48,
   "metadata": {},
   "outputs": [
    {
     "data": {
      "text/plain": [
       "[1.5306083402848462e-05, 0.0]"
      ]
     },
     "execution_count": 48,
     "metadata": {},
     "output_type": "execute_result"
    }
   ],
   "source": [
    "#probability; alpha = 0(without Additive Smoothing)\n",
    "pWord1 = calculateProbability(TiReTr, CoReTr, TiNoTr, CoNoTr, countDict1, 0)\n",
    "pWord1['خداوکیلی']"
   ]
  },
  {
   "cell_type": "code",
   "execution_count": 49,
   "metadata": {},
   "outputs": [
    {
     "data": {
      "text/plain": [
       "[708, 402, 355]"
      ]
     },
     "execution_count": 49,
     "metadata": {},
     "output_type": "execute_result"
    }
   ],
   "source": [
    "#Without Pish/ Without Additive \n",
    "output1 = validate(testData1[\"title\"], testData1[\"comment\"], testData1[\"recommend\"], pRecom, pNotRecom, pWord1)\n",
    "correct1 = output1[0]\n",
    "allRe1 = output1[1]\n",
    "correctRe1 = output1[2]\n",
    "output1[0:3]"
   ]
  },
  {
   "cell_type": "code",
   "execution_count": 50,
   "metadata": {
    "scrolled": true
   },
   "outputs": [
    {
     "data": {
      "text/plain": [
       "[1.7923780914041132e-05, 3.971863320239424e-06]"
      ]
     },
     "execution_count": 50,
     "metadata": {},
     "output_type": "execute_result"
    }
   ],
   "source": [
    "#probability; alpha = 0.5(with Additive Smoothing)\n",
    "pWordAS1 = calculateProbability(TiReTr, CoReTr, TiNoTr, CoNoTr, countDict1, 0.5)\n",
    "pWordAS1['خداوکیلی']"
   ]
  },
  {
   "cell_type": "code",
   "execution_count": 51,
   "metadata": {},
   "outputs": [
    {
     "data": {
      "text/plain": [
       "[723, 401, 362]"
      ]
     },
     "execution_count": 51,
     "metadata": {},
     "output_type": "execute_result"
    }
   ],
   "source": [
    "#Without Pish/ With Additive \n",
    "outputAS1 = validate(testData1[\"title\"], testData1[\"comment\"], testData1[\"recommend\"], pRecom, pNotRecom, pWordAS1)\n",
    "correctAS1 = outputAS1[0]\n",
    "allReAS1 = outputAS1[1]\n",
    "correctReAS1 = outputAS1[2]\n",
    "outputAS1[0:3]"
   ]
  },
  {
   "cell_type": "code",
   "execution_count": 52,
   "metadata": {},
   "outputs": [],
   "source": [
    "#Part 3; Evaluation"
   ]
  },
  {
   "cell_type": "markdown",
   "metadata": {
    "direction": "rtl"
   },
   "source": [
    "## <div style=\"direction:rtl\">فاز سوم: ارزیابی <div/>\n",
    "<div style=\"direction:rtl\">\n",
    "    حال برای دسته بندی هایی که در بالا انحام دادیم بایستی معیار هایی برای ارزیابی طراحی کنیم. در اینجا 4 معیار تعریف می کنیم. \n",
    "    </div>"
   ]
  },
  {
   "cell_type": "markdown",
   "metadata": {
    "direction": "rtl"
   },
   "source": [
    "<div style=\"direction:rtl\">\n",
    "    1. Accuracy:<br>\n",
    "   accuracy معیاری است تا در کل ببینیم در تمام داده ها چه مقدار صحیح دسته بندی شده است. \n",
    "    </div>"
   ]
  },
  {
   "cell_type": "code",
   "execution_count": 53,
   "metadata": {},
   "outputs": [],
   "source": [
    "def calculateAccuracy(correct, total):\n",
    "    return (correct/total)*100"
   ]
  },
  {
   "cell_type": "markdown",
   "metadata": {
    "direction": "rtl"
   },
   "source": [
    "<div style=\"direction:rtl\">\n",
    "    2. Precision<br>\n",
    "   Precision معیاری است برای سنجش میزان دقت و صحت دسته بندی های عباراتی که در یک کلاس خاص دسته بندی شده اند(اینجا کلاس Recommended)<br>\n",
    "    یعنی چقدر از داده هایی که در دسته این کلاس قرار گرفته اند واقعاً متعلق به این کلاس بوده اند. \n",
    "    </div>"
   ]
  },
  {
   "cell_type": "code",
   "execution_count": 54,
   "metadata": {},
   "outputs": [],
   "source": [
    "def calculatePrecision(correctRe, allRe):\n",
    "    return (correctRe/allRe)*100"
   ]
  },
  {
   "cell_type": "markdown",
   "metadata": {
    "direction": "rtl"
   },
   "source": [
    "<div style=\"direction:rtl\">\n",
    "    3. Recall<br>\n",
    "   Recall معیاری است برای سنجش میزان دقت و صحت دسته بندی های عباراتی که در یک کلاس خاص دسته بندی شده اند در مقایسه با تمام داده ها(اینجا کلاس Recommended)<br>\n",
    "    یعنی چقدر از داده هایی که متعلق به این کلاس بوده اند درست دسته بندی شده اند. \n",
    "    </div>"
   ]
  },
  {
   "cell_type": "code",
   "execution_count": 55,
   "metadata": {},
   "outputs": [],
   "source": [
    "def calculateRecall(correctRe, totalRe):\n",
    "    return (correctRe/totalRe)*100"
   ]
  },
  {
   "cell_type": "markdown",
   "metadata": {
    "direction": "rtl"
   },
   "source": [
    "<div style=\"direction:rtl\">\n",
    "    4. F1<br>\n",
    "   تابعی از precision و recall است. در اصل یک مقدار متعادل میان recall و precision است. \n",
    "    </div>"
   ]
  },
  {
   "cell_type": "code",
   "execution_count": 56,
   "metadata": {},
   "outputs": [],
   "source": [
    "def calculateF1(precision, recall):\n",
    "    return 2*((precision*recall)/(precision+recall))"
   ]
  },
  {
   "cell_type": "markdown",
   "metadata": {
    "direction": "rtl"
   },
   "source": [
    "<div style=\"direction:rtl\">\n",
    "<b>\n",
    "5)  &ensp; چرا مقدار Precision و Recall هر کدام به تنهایی برای ارزیابی مدل کافی نیست؟ همراه با مثال \n",
    "    </b><br><br>\n",
    " هر دو این معیار ها رو یک کلاس و دسته خاص تمرکز می کنند، حال این دو معیار را بررسی می کنیم:<br>\n",
    "    - Recall <Br>\n",
    "   تعریف این معیار در بالا آمده است. حال فرض کنیم در ایام کرونا بخواهیم دسته بندی طراحی کنیم و این دسته بند برای تمام افراد کرونا مثبت را پیش بینی کند. بنابراین Recall روی کلاس مثبت بسیار عدد بالایی می شود اما به هیچ عنوان این دسته بندی خوب نیست چون تعداد زیادی مثبت اشتباه دارد.<br>\n",
    "    -Precision<br>\n",
    "    تعریف این معیار هم در بالا آمده است. حال فرض کنیم همان دسته بند مثال بالا یعنی برای بیماری کرونا را به گونه ای عمل کند که تنها یک نفر که واقعاً کرونا دارد مثبت تشخیص دهد. اینجا Precision صد در صد می شود اما این دسته بندی هم خوب نیست چون تعدا زیادی مثبت را در نظز نمیگیرد.\n",
    "    <br><br>\n",
    "    <b>\n",
    "6)  &ensp; معیار F1 از چه نوع میانگین گیری بین precision و recall استفاده می کند؟ علت آن به نظر شما چیست؟ \n",
    "    </b><br><br>\n",
    "  برای محاسبه F1 ما از میانگین <b>هارمونیک</b> معیار های precision و recall استفاده می کنیم. این میانگین حاصل تقسیم 2 بر مجموع معکوس این دو معیار است. این میانگین گیری تفاوتش با میانگین گیری عادی این است که به اعداد نسبتی داده می شود. همانطور که در سوال بالا گفته شد بالا بودن این دو معیار الزاماً خوب نیست بنابراین به مقدار متعادل شده این دو نیازمندیم.F1 همین مقدار متعادل را ایجاد می کند فقط مقدار حاصل به سمت مقدار کمتر جهت میگیرد. \n",
    "</div>"
   ]
  },
  {
   "cell_type": "markdown",
   "metadata": {
    "direction": "rtl"
   },
   "source": [
    "<div style=\"direction:rtl\">\n",
    "   حال برای چهار حالت زیر مقادیر چهار معیار ذکر شده را با کمک اطلاعاتی که از مراحل قبل به دست آورده ایم حساب می کنیم.<br>\n",
    "    a) استفاده از پیش پردازش داده ها و Additive Smoothing\n",
    "   <br> \n",
    "    b) تنها استفاده از Additive Smoothing\n",
    "   <br> \n",
    "    c) تنها استفاده از پیش پردازش داده ها\n",
    "  <br> \n",
    "    d) استفاده نکردن از هیچ کدام از پیش پردازش داده ها و Additive Smoothing\n",
    "    </div>"
   ]
  },
  {
   "cell_type": "code",
   "execution_count": 57,
   "metadata": {},
   "outputs": [
    {
     "data": {
      "text/plain": [
       "[93.0, 92.7860696517413, 93.25, 93.01745635910225]"
      ]
     },
     "execution_count": 57,
     "metadata": {},
     "output_type": "execute_result"
    }
   ],
   "source": [
    "#a :: with Pish & with Additive\n",
    "accuracyAS = calculateAccuracy(correctAS, testData.shape[0])\n",
    "precisionAS = calculatePrecision(correctReAS, allReAS)\n",
    "recallAS = calculateRecall(correctReAS, totalRecommended)\n",
    "f1AS = calculateF1(precisionAS, recallAS)\n",
    "[accuracyAS, precisionAS, recallAS, f1AS]"
   ]
  },
  {
   "cell_type": "code",
   "execution_count": 58,
   "metadata": {},
   "outputs": [
    {
     "data": {
      "text/plain": [
       "[90.375, 90.27431421446383, 90.5, 90.38701622971286]"
      ]
     },
     "execution_count": 58,
     "metadata": {},
     "output_type": "execute_result"
    }
   ],
   "source": [
    "#b :: without Pish & with Additive\n",
    "accuracyAS1 = calculateAccuracy(correctAS1, testData.shape[0])\n",
    "precisionAS1 = calculatePrecision(correctReAS1, allReAS1)\n",
    "recallAS1 = calculateRecall(correctReAS1, totalRecommended)\n",
    "f1AS1 = calculateF1(precisionAS1, recallAS1)\n",
    "[accuracyAS1, precisionAS1, recallAS1, f1AS1]"
   ]
  },
  {
   "cell_type": "code",
   "execution_count": 59,
   "metadata": {},
   "outputs": [
    {
     "data": {
      "text/plain": [
       "[89.75, 88.97058823529412, 90.75, 89.85148514851485]"
      ]
     },
     "execution_count": 59,
     "metadata": {},
     "output_type": "execute_result"
    }
   ],
   "source": [
    "#c :: with Pish & without Additive\n",
    "accuracy = calculateAccuracy(correct, testData.shape[0])\n",
    "precision = calculatePrecision(correctRe, allRe)\n",
    "recall = calculateRecall(correctRe, totalRecommended)\n",
    "f1 = calculateF1(precision, recall)\n",
    "[accuracy, precision, recall, f1]"
   ]
  },
  {
   "cell_type": "code",
   "execution_count": 60,
   "metadata": {},
   "outputs": [
    {
     "data": {
      "text/plain": [
       "[88.5, 88.30845771144278, 88.75, 88.5286783042394]"
      ]
     },
     "execution_count": 60,
     "metadata": {},
     "output_type": "execute_result"
    }
   ],
   "source": [
    "#d :: without Pish & without Additive\n",
    "accuracy1 = calculateAccuracy(correct1, testData.shape[0])\n",
    "precision1 = calculatePrecision(correctRe1, allRe1)\n",
    "recall1 = calculateRecall(correctRe1, totalRecommended)\n",
    "f11 = calculateF1(precision1, recall1)\n",
    "[accuracy1, precision1, recall1, f11]"
   ]
  },
  {
   "cell_type": "markdown",
   "metadata": {
    "direction": "rtl"
   },
   "source": [
    "<div style=\"direction:rtl\">\n",
    "  ابتدا برای هر کدام از چهار معیار جداگانه دیتا فریمی برای چهار حالت می سازیم و نمودار های آن ها رسم می کنیم و در نهایت چهار دیتافریم تشکیل شده را در قالب یک دیتا فریم ادغام میکنیم و به عنوان خروجی تولید نمایش می دهیم.\n",
    "    </div>"
   ]
  },
  {
   "cell_type": "code",
   "execution_count": 61,
   "metadata": {},
   "outputs": [
    {
     "data": {
      "text/html": [
       "<div>\n",
       "<style scoped>\n",
       "    .dataframe tbody tr th:only-of-type {\n",
       "        vertical-align: middle;\n",
       "    }\n",
       "\n",
       "    .dataframe tbody tr th {\n",
       "        vertical-align: top;\n",
       "    }\n",
       "\n",
       "    .dataframe thead th {\n",
       "        text-align: right;\n",
       "    }\n",
       "</style>\n",
       "<table border=\"1\" class=\"dataframe\">\n",
       "  <thead>\n",
       "    <tr style=\"text-align: right;\">\n",
       "      <th></th>\n",
       "      <th>Accuracy</th>\n",
       "    </tr>\n",
       "  </thead>\n",
       "  <tbody>\n",
       "    <tr>\n",
       "      <th>a</th>\n",
       "      <td>93.000</td>\n",
       "    </tr>\n",
       "    <tr>\n",
       "      <th>b</th>\n",
       "      <td>90.375</td>\n",
       "    </tr>\n",
       "    <tr>\n",
       "      <th>c</th>\n",
       "      <td>89.750</td>\n",
       "    </tr>\n",
       "    <tr>\n",
       "      <th>d</th>\n",
       "      <td>88.500</td>\n",
       "    </tr>\n",
       "  </tbody>\n",
       "</table>\n",
       "</div>"
      ],
      "text/plain": [
       "   Accuracy\n",
       "a    93.000\n",
       "b    90.375\n",
       "c    89.750\n",
       "d    88.500"
      ]
     },
     "execution_count": 61,
     "metadata": {},
     "output_type": "execute_result"
    }
   ],
   "source": [
    "allAccuracy = [accuracyAS, accuracyAS1, accuracy, accuracy1]\n",
    "accDf = pd.DataFrame(allAccuracy, index =[\"a\", \"b\", \"c\", \"d\"], columns =[\"Accuracy\"])\n",
    "accDf"
   ]
  },
  {
   "cell_type": "code",
   "execution_count": 62,
   "metadata": {},
   "outputs": [
    {
     "data": {
      "text/plain": [
       "Text(0, 0.5, 'Accuracy')"
      ]
     },
     "execution_count": 62,
     "metadata": {},
     "output_type": "execute_result"
    },
    {
     "data": {
      "image/png": "[encoded data removed]",
      "text/plain": [
       "<Figure size 720x360 with 1 Axes>"
      ]
     },
     "metadata": {
      "needs_background": "light"
     },
     "output_type": "display_data"
    }
   ],
   "source": [
    "y = accDf[\"Accuracy\"]\n",
    "x = [\"a\",\"b\",\"c\",\"d\"]\n",
    "mplot.figure(figsize=(10,5))\n",
    "mplot.plot(x,y,'--o')\n",
    "mplot.xlabel(\"State\")\n",
    "mplot.ylabel(\"Accuracy\")\n",
    "# accDf.plot()"
   ]
  },
  {
   "cell_type": "code",
   "execution_count": 63,
   "metadata": {},
   "outputs": [
    {
     "data": {
      "text/html": [
       "<div>\n",
       "<style scoped>\n",
       "    .dataframe tbody tr th:only-of-type {\n",
       "        vertical-align: middle;\n",
       "    }\n",
       "\n",
       "    .dataframe tbody tr th {\n",
       "        vertical-align: top;\n",
       "    }\n",
       "\n",
       "    .dataframe thead th {\n",
       "        text-align: right;\n",
       "    }\n",
       "</style>\n",
       "<table border=\"1\" class=\"dataframe\">\n",
       "  <thead>\n",
       "    <tr style=\"text-align: right;\">\n",
       "      <th></th>\n",
       "      <th>Precision</th>\n",
       "    </tr>\n",
       "  </thead>\n",
       "  <tbody>\n",
       "    <tr>\n",
       "      <th>a</th>\n",
       "      <td>92.786070</td>\n",
       "    </tr>\n",
       "    <tr>\n",
       "      <th>b</th>\n",
       "      <td>90.274314</td>\n",
       "    </tr>\n",
       "    <tr>\n",
       "      <th>c</th>\n",
       "      <td>88.970588</td>\n",
       "    </tr>\n",
       "    <tr>\n",
       "      <th>d</th>\n",
       "      <td>88.308458</td>\n",
       "    </tr>\n",
       "  </tbody>\n",
       "</table>\n",
       "</div>"
      ],
      "text/plain": [
       "   Precision\n",
       "a  92.786070\n",
       "b  90.274314\n",
       "c  88.970588\n",
       "d  88.308458"
      ]
     },
     "execution_count": 63,
     "metadata": {},
     "output_type": "execute_result"
    }
   ],
   "source": [
    "allPrecision = [precisionAS, precisionAS1, precision, precision1]\n",
    "prDf = pd.DataFrame(allPrecision, index =[\"a\", \"b\", \"c\", \"d\"], columns =[\"Precision\"])\n",
    "prDf"
   ]
  },
  {
   "cell_type": "code",
   "execution_count": 64,
   "metadata": {},
   "outputs": [
    {
     "data": {
      "text/plain": [
       "Text(0, 0.5, 'Precision')"
      ]
     },
     "execution_count": 64,
     "metadata": {},
     "output_type": "execute_result"
    },
    {
     "data": {
      "image/png": "[encoded data removed]",
      "text/plain": [
       "<Figure size 720x360 with 1 Axes>"
      ]
     },
     "metadata": {
      "needs_background": "light"
     },
     "output_type": "display_data"
    }
   ],
   "source": [
    "y = prDf[\"Precision\"]\n",
    "x = [\"a\",\"b\",\"c\",\"d\"]\n",
    "mplot.figure(figsize=(10,5))\n",
    "mplot.plot(x,y,'--o')\n",
    "mplot.xlabel(\"State\")\n",
    "mplot.ylabel(\"Precision\")\n",
    "# prDf.plot()"
   ]
  },
  {
   "cell_type": "code",
   "execution_count": 65,
   "metadata": {},
   "outputs": [
    {
     "data": {
      "text/html": [
       "<div>\n",
       "<style scoped>\n",
       "    .dataframe tbody tr th:only-of-type {\n",
       "        vertical-align: middle;\n",
       "    }\n",
       "\n",
       "    .dataframe tbody tr th {\n",
       "        vertical-align: top;\n",
       "    }\n",
       "\n",
       "    .dataframe thead th {\n",
       "        text-align: right;\n",
       "    }\n",
       "</style>\n",
       "<table border=\"1\" class=\"dataframe\">\n",
       "  <thead>\n",
       "    <tr style=\"text-align: right;\">\n",
       "      <th></th>\n",
       "      <th>Recall</th>\n",
       "    </tr>\n",
       "  </thead>\n",
       "  <tbody>\n",
       "    <tr>\n",
       "      <th>a</th>\n",
       "      <td>93.25</td>\n",
       "    </tr>\n",
       "    <tr>\n",
       "      <th>b</th>\n",
       "      <td>90.50</td>\n",
       "    </tr>\n",
       "    <tr>\n",
       "      <th>c</th>\n",
       "      <td>90.75</td>\n",
       "    </tr>\n",
       "    <tr>\n",
       "      <th>d</th>\n",
       "      <td>88.75</td>\n",
       "    </tr>\n",
       "  </tbody>\n",
       "</table>\n",
       "</div>"
      ],
      "text/plain": [
       "   Recall\n",
       "a   93.25\n",
       "b   90.50\n",
       "c   90.75\n",
       "d   88.75"
      ]
     },
     "execution_count": 65,
     "metadata": {},
     "output_type": "execute_result"
    }
   ],
   "source": [
    "allRecall = [recallAS, recallAS1, recall, recall1]\n",
    "reDf = pd.DataFrame(allRecall, index =[\"a\", \"b\", \"c\", \"d\"], columns =[\"Recall\"])\n",
    "reDf"
   ]
  },
  {
   "cell_type": "code",
   "execution_count": 66,
   "metadata": {},
   "outputs": [
    {
     "data": {
      "text/plain": [
       "Text(0, 0.5, 'Recall')"
      ]
     },
     "execution_count": 66,
     "metadata": {},
     "output_type": "execute_result"
    },
    {
     "data": {
      "image/png": "[encoded data removed]",
      "text/plain": [
       "<Figure size 720x360 with 1 Axes>"
      ]
     },
     "metadata": {
      "needs_background": "light"
     },
     "output_type": "display_data"
    }
   ],
   "source": [
    "y = reDf[\"Recall\"]\n",
    "x = [\"a\",\"b\",\"c\",\"d\"]\n",
    "mplot.figure(figsize=(10,5))\n",
    "mplot.plot(x,y,'--o')\n",
    "mplot.xlabel(\"State\")\n",
    "mplot.ylabel(\"Recall\")\n",
    "# reDf.plot()"
   ]
  },
  {
   "cell_type": "code",
   "execution_count": 67,
   "metadata": {},
   "outputs": [
    {
     "data": {
      "text/html": [
       "<div>\n",
       "<style scoped>\n",
       "    .dataframe tbody tr th:only-of-type {\n",
       "        vertical-align: middle;\n",
       "    }\n",
       "\n",
       "    .dataframe tbody tr th {\n",
       "        vertical-align: top;\n",
       "    }\n",
       "\n",
       "    .dataframe thead th {\n",
       "        text-align: right;\n",
       "    }\n",
       "</style>\n",
       "<table border=\"1\" class=\"dataframe\">\n",
       "  <thead>\n",
       "    <tr style=\"text-align: right;\">\n",
       "      <th></th>\n",
       "      <th>F1</th>\n",
       "    </tr>\n",
       "  </thead>\n",
       "  <tbody>\n",
       "    <tr>\n",
       "      <th>a</th>\n",
       "      <td>93.017456</td>\n",
       "    </tr>\n",
       "    <tr>\n",
       "      <th>b</th>\n",
       "      <td>90.387016</td>\n",
       "    </tr>\n",
       "    <tr>\n",
       "      <th>c</th>\n",
       "      <td>89.851485</td>\n",
       "    </tr>\n",
       "    <tr>\n",
       "      <th>d</th>\n",
       "      <td>88.528678</td>\n",
       "    </tr>\n",
       "  </tbody>\n",
       "</table>\n",
       "</div>"
      ],
      "text/plain": [
       "          F1\n",
       "a  93.017456\n",
       "b  90.387016\n",
       "c  89.851485\n",
       "d  88.528678"
      ]
     },
     "execution_count": 67,
     "metadata": {},
     "output_type": "execute_result"
    }
   ],
   "source": [
    "allF1 = [f1AS, f1AS1, f1, f11]\n",
    "f1Df = pd.DataFrame(allF1, index =[\"a\", \"b\", \"c\", \"d\"], columns =[\"F1\"])\n",
    "f1Df"
   ]
  },
  {
   "cell_type": "code",
   "execution_count": 68,
   "metadata": {},
   "outputs": [
    {
     "data": {
      "text/plain": [
       "Text(0, 0.5, 'F1')"
      ]
     },
     "execution_count": 68,
     "metadata": {},
     "output_type": "execute_result"
    },
    {
     "data": {
      "image/png": "[encoded data removed]",
      "text/plain": [
       "<Figure size 720x360 with 1 Axes>"
      ]
     },
     "metadata": {
      "needs_background": "light"
     },
     "output_type": "display_data"
    }
   ],
   "source": [
    "y = f1Df[\"F1\"]\n",
    "x = [\"a\",\"b\",\"c\",\"d\"]\n",
    "mplot.figure(figsize=(10,5))\n",
    "mplot.plot(x,y,'--o')\n",
    "mplot.xlabel(\"State\")\n",
    "mplot.ylabel(\"F1\")\n",
    "# f1Df.plot()"
   ]
  },
  {
   "cell_type": "markdown",
   "metadata": {
    "direction": "rtl"
   },
   "source": [
    "<div style=\"direction:rtl\">\n",
    "<b>\n",
    "7)  &ensp; در یک جدول، مقدار 4 معیار گفته شده را برای 4 حالت ذکر شده به دست بیاورید. \n",
    "   </b> \n",
    "</div>"
   ]
  },
  {
   "cell_type": "code",
   "execution_count": 69,
   "metadata": {},
   "outputs": [
    {
     "data": {
      "text/html": [
       "<div>\n",
       "<style scoped>\n",
       "    .dataframe tbody tr th:only-of-type {\n",
       "        vertical-align: middle;\n",
       "    }\n",
       "\n",
       "    .dataframe tbody tr th {\n",
       "        vertical-align: top;\n",
       "    }\n",
       "\n",
       "    .dataframe thead th {\n",
       "        text-align: right;\n",
       "    }\n",
       "</style>\n",
       "<table border=\"1\" class=\"dataframe\">\n",
       "  <thead>\n",
       "    <tr style=\"text-align: right;\">\n",
       "      <th></th>\n",
       "      <th>Accuracy</th>\n",
       "      <th>Precision</th>\n",
       "      <th>Recall</th>\n",
       "      <th>F1</th>\n",
       "    </tr>\n",
       "  </thead>\n",
       "  <tbody>\n",
       "    <tr>\n",
       "      <th>a</th>\n",
       "      <td>93.000</td>\n",
       "      <td>92.786070</td>\n",
       "      <td>93.25</td>\n",
       "      <td>93.017456</td>\n",
       "    </tr>\n",
       "    <tr>\n",
       "      <th>b</th>\n",
       "      <td>90.375</td>\n",
       "      <td>90.274314</td>\n",
       "      <td>90.50</td>\n",
       "      <td>90.387016</td>\n",
       "    </tr>\n",
       "    <tr>\n",
       "      <th>c</th>\n",
       "      <td>89.750</td>\n",
       "      <td>88.970588</td>\n",
       "      <td>90.75</td>\n",
       "      <td>89.851485</td>\n",
       "    </tr>\n",
       "    <tr>\n",
       "      <th>d</th>\n",
       "      <td>88.500</td>\n",
       "      <td>88.308458</td>\n",
       "      <td>88.75</td>\n",
       "      <td>88.528678</td>\n",
       "    </tr>\n",
       "  </tbody>\n",
       "</table>\n",
       "</div>"
      ],
      "text/plain": [
       "   Accuracy  Precision  Recall         F1\n",
       "a    93.000  92.786070   93.25  93.017456\n",
       "b    90.375  90.274314   90.50  90.387016\n",
       "c    89.750  88.970588   90.75  89.851485\n",
       "d    88.500  88.308458   88.75  88.528678"
      ]
     },
     "execution_count": 69,
     "metadata": {},
     "output_type": "execute_result"
    }
   ],
   "source": [
    "newDf = pd.concat([accDf, prDf, reDf, f1Df], axis = 1)\n",
    "newDf"
   ]
  },
  {
   "cell_type": "code",
   "execution_count": 70,
   "metadata": {},
   "outputs": [
    {
     "data": {
      "text/plain": [
       "Text(0, 0.5, 'value')"
      ]
     },
     "execution_count": 70,
     "metadata": {},
     "output_type": "execute_result"
    },
    {
     "data": {
      "image/png": "[encoded data removed]",
      "text/plain": [
       "<Figure size 720x360 with 1 Axes>"
      ]
     },
     "metadata": {
      "needs_background": "light"
     },
     "output_type": "display_data"
    }
   ],
   "source": [
    "# newDf.plot()\n",
    "x = [\"a\",\"b\",\"c\",\"d\"]\n",
    "y1 = newDf[\"Accuracy\"]\n",
    "y2 = newDf[\"Precision\"]\n",
    "y3 = newDf[\"Recall\"]\n",
    "y4 = newDf[\"F1\"]\n",
    "mplot.figure(figsize=(10,5))\n",
    "mplot.plot(x,y1,'--o')\n",
    "mplot.plot(x,y2,'--o')\n",
    "mplot.plot(x,y3,'--o')\n",
    "mplot.plot(x,y4,'--o')\n",
    "mplot.legend([\"Accuracy\",\"Precision\",\"Recall\",\"Recall\"])\n",
    "mplot.xlabel(\"State\")\n",
    "mplot.ylabel(\"value\")"
   ]
  },
  {
   "cell_type": "markdown",
   "metadata": {
    "direction": "rtl"
   },
   "source": [
    "<div style=\"direction:rtl\">\n",
    "<b>\n",
    "8)  &ensp; مقادیر به دست آمده در بخش قبل را تحلیل کنید. \n",
    "   </b><br><br>\n",
    "       در حالت a داده های اضافی حذف شده اند و داده ها تمیز شده اند همچنین تنها بنا به داده ای تست و نبودن یک توکن در کلاسی خاص جهت گیری انجام نشده و به آن توکن هم شانس کمی در آن کلاس داده شده است اینها مواردی هستند که دسته بند و مدل naive bayes مان دقیق تر تصمیم بگیرد که باعث در هر چهار معیار برترین حالت باشد. اختلاف حالات b و c زیاد نیست چون هردو تلاشی برای دقیق تر شدن تصمیم گیری کرده اند اما در حالتی که Additive Smoothing نداریم جهت گیری ناخودآگاه و ناگهانی به سمت یک کلاس دقت مدل را کم کرده است. در حالت آخر که هم جهت گیری داریم و هم تعداد زیادی داده اضافی و پردازش نشده داریم دقت بسیار پایین می آید.\n",
    "       <br>همچنین نمودار نشان می دهد اکثر تعداد عباراتی که recommended پیشنهاد شده اند به واقع recommended بودند. علاوه بر آن موردی که در سوال 6 بیان شد اینجا دیده می شود معیار F1 میانگین دو معیار Recall و Precission است. همچنین نزدیکی دو معیار Accuracy و F1 نشان می دهد این دو معیار، معیار های متعادل و خوبی برای سنجش دقت مدل هستند.\n",
    "</div>"
   ]
  },
  {
   "cell_type": "markdown",
   "metadata": {
    "direction": "rtl"
   },
   "source": [
    "<div style=\"direction:rtl\">\n",
    "<b>\n",
    "9)  &ensp; پنج مورد از کامنت هایی که در داده تست هستند و مدل آنها را به اشتباه تشخیص داده است. علت این اشتباهات به نظر شما چیست؟ \n",
    "   </b>\n",
    "</div>"
   ]
  },
  {
   "cell_type": "code",
   "execution_count": 91,
   "metadata": {},
   "outputs": [
    {
     "data": {
      "text/plain": [
       "title                                           نقد پس از خرید\n",
       "comment      سلام ، راحت شدم از کابل شارژ ، توصیه میشود به ...\n",
       "recommend                                          recommended\n",
       "Name: 8, dtype: object"
      ]
     },
     "metadata": {},
     "output_type": "display_data"
    },
    {
     "data": {
      "text/plain": [
       "title                                            خیالم راحت شد\n",
       "comment      فندک قبلیم مدام فیوز میسوزوند و یک بار شارژر م...\n",
       "recommend                                          recommended\n",
       "Name: 19, dtype: object"
      ]
     },
     "metadata": {},
     "output_type": "display_data"
    },
    {
     "data": {
      "text/plain": [
       "title                                             جنس و زیبایی\n",
       "comment      زیبا هستش از مدل های دیگه مثل پارس ... بنظرم ز...\n",
       "recommend                                          recommended\n",
       "Name: 56, dtype: object"
      ]
     },
     "metadata": {},
     "output_type": "display_data"
    },
    {
     "data": {
      "text/plain": [
       "title                                        بررسی فیلتر سرکان\n",
       "comment      من خودم جزو افرادی بودم که نزدیک سیزده ساله از...\n",
       "recommend                                      not_recommended\n",
       "Name: 69, dtype: object"
      ]
     },
     "metadata": {},
     "output_type": "display_data"
    },
    {
     "data": {
      "text/plain": [
       "title        انقدر که در تصویر دیده می شود زیبا نیست\n",
       "comment                      اگر خریداری نکنید بهتره\n",
       "recommend                            not_recommended\n",
       "Name: 101, dtype: object"
      ]
     },
     "metadata": {},
     "output_type": "display_data"
    }
   ],
   "source": [
    "testData = pd.read_csv(\"comment_test.csv\")\n",
    "for i in wrong[0:5]:\n",
    "    display(testData.iloc[i])"
   ]
  },
  {
   "cell_type": "markdown",
   "metadata": {
    "direction": "rtl"
   },
   "source": [
    "<div style=\"direction:rtl\">\n",
    "دلایل گوناگونی می تواند باعث این اشکالات شوند:<br>\n",
    "    - ما لغات پرتکرار زبان فارسی را حذف کردیم اما الان داریم در داده های مرتبط با یک سایت خرید و فروش کار می کنیم. خود این داده ها می توانند دفعات زیادی در عبارات تکرار شوند؛ مثلاً همه درباره یک نوع مداد، شارژر و ... نظر می دهند. حذف نکردن این موارد باعث خطا در سنجش احتمال می شود.<br>\n",
    "    - ممکن است در هنگامی که میگوییم با احتمالات برابر با شانس پنجاه پنجاه یکی را انتخاب کن این تصادفی ما را به صورت تصادفی به دسته نادرست فرستاده باشد.<br>\n",
    "    - ممکن است لغاتی را جزو لغات پرتکرار قرار داده ایم که نباید حذف می شد و اگر حذف نمیشد احتمالات دقیق تر میبودند.<br>\n",
    "    - آلفایی که در Additive Smoothing انتخاب کردیم مناسب نبوده است و باعث خوشبینانه تر کردن یه سری احتمالات شده است.\n",
    "</div>"
   ]
  },
  {
   "cell_type": "markdown",
   "metadata": {
    "direction": "rtl"
   },
   "source": [
    "### <div style=\"direction:rtl\"> مقایسه دو حالت پیش پردازش</div>\n",
    "<div style=\"direction:rtl\">\n",
    "    همانطور که در پایان بخش پیش پردازش گفتیم چهار حالت مختلف پیش پردازش را تست کردیم. برای مثال در این بخش را برای دو حالت بدون دو عملیات stem و lemmatization و همراه با این دو تست کردیم و  مقادیر چهر معیار را در یک لیست ذخیره کردیم و سپس این عبارات را به یک دیتافریم تبدیل کردیم و آن را در یک csv ذخیره کردیم. فایل csv کنار پروژه موجود است. اما مقادیر آن در زیر قابل مشاهده است. \n",
    "    </div>"
   ]
  },
  {
   "cell_type": "code",
   "execution_count": 71,
   "metadata": {},
   "outputs": [],
   "source": [
    "# allDf = pd.concat([accDf, prDf, reDf, f1Df], axis = 1)\n",
    "# allDf.to_csv('allDf.csv')\n",
    "# allDf"
   ]
  },
  {
   "cell_type": "code",
   "execution_count": 72,
   "metadata": {},
   "outputs": [],
   "source": [
    "# allDfSL = pd.concat([accDf, prDf, reDf, f1Df], axis = 1)\n",
    "# allDfSL.to_csv('allDfSL.csv')\n",
    "# allDfSL"
   ]
  },
  {
   "cell_type": "code",
   "execution_count": 73,
   "metadata": {},
   "outputs": [
    {
     "data": {
      "text/html": [
       "<div>\n",
       "<style scoped>\n",
       "    .dataframe tbody tr th:only-of-type {\n",
       "        vertical-align: middle;\n",
       "    }\n",
       "\n",
       "    .dataframe tbody tr th {\n",
       "        vertical-align: top;\n",
       "    }\n",
       "\n",
       "    .dataframe thead th {\n",
       "        text-align: right;\n",
       "    }\n",
       "</style>\n",
       "<table border=\"1\" class=\"dataframe\">\n",
       "  <thead>\n",
       "    <tr style=\"text-align: right;\">\n",
       "      <th></th>\n",
       "      <th>Unnamed: 0</th>\n",
       "      <th>Accuracy</th>\n",
       "      <th>Precision</th>\n",
       "      <th>Recall</th>\n",
       "      <th>F1</th>\n",
       "    </tr>\n",
       "  </thead>\n",
       "  <tbody>\n",
       "    <tr>\n",
       "      <th>0</th>\n",
       "      <td>a</td>\n",
       "      <td>93.500</td>\n",
       "      <td>93.283582</td>\n",
       "      <td>93.75</td>\n",
       "      <td>93.516209</td>\n",
       "    </tr>\n",
       "    <tr>\n",
       "      <th>1</th>\n",
       "      <td>b</td>\n",
       "      <td>90.875</td>\n",
       "      <td>90.773067</td>\n",
       "      <td>91.00</td>\n",
       "      <td>90.886392</td>\n",
       "    </tr>\n",
       "    <tr>\n",
       "      <th>2</th>\n",
       "      <td>c</td>\n",
       "      <td>90.125</td>\n",
       "      <td>89.826303</td>\n",
       "      <td>90.50</td>\n",
       "      <td>90.161893</td>\n",
       "    </tr>\n",
       "    <tr>\n",
       "      <th>3</th>\n",
       "      <td>d</td>\n",
       "      <td>88.000</td>\n",
       "      <td>87.438424</td>\n",
       "      <td>88.75</td>\n",
       "      <td>88.089330</td>\n",
       "    </tr>\n",
       "  </tbody>\n",
       "</table>\n",
       "</div>"
      ],
      "text/plain": [
       "  Unnamed: 0  Accuracy  Precision  Recall         F1\n",
       "0          a    93.500  93.283582   93.75  93.516209\n",
       "1          b    90.875  90.773067   91.00  90.886392\n",
       "2          c    90.125  89.826303   90.50  90.161893\n",
       "3          d    88.000  87.438424   88.75  88.089330"
      ]
     },
     "execution_count": 73,
     "metadata": {},
     "output_type": "execute_result"
    }
   ],
   "source": [
    "allDf = pd.read_csv('allDf.csv')\n",
    "allDf"
   ]
  },
  {
   "cell_type": "code",
   "execution_count": 74,
   "metadata": {},
   "outputs": [
    {
     "data": {
      "text/plain": [
       "Text(0, 0.5, 'value')"
      ]
     },
     "execution_count": 74,
     "metadata": {},
     "output_type": "execute_result"
    },
    {
     "data": {
      "image/png": "[encoded data removed]",
      "text/plain": [
       "<Figure size 720x360 with 1 Axes>"
      ]
     },
     "metadata": {
      "needs_background": "light"
     },
     "output_type": "display_data"
    }
   ],
   "source": [
    "allDf = pd.read_csv('allDf.csv')\n",
    "x = allDf[\"Unnamed: 0\"]\n",
    "y1 = allDf[\"Accuracy\"]\n",
    "y2 = allDf[\"Precision\"]\n",
    "y3 = allDf[\"Recall\"]\n",
    "y4 = allDf[\"F1\"]\n",
    "mplot.figure(figsize=(10,5))\n",
    "mplot.plot(x,y1,'--o')\n",
    "mplot.plot(x,y2,'--o')\n",
    "mplot.plot(x,y3,'--o')\n",
    "mplot.plot(x,y4,'--o')\n",
    "mplot.legend([\"Accuracy\",\"Precision\",\"Recall\",\"Recall\"])\n",
    "mplot.xlabel(\"State\")\n",
    "mplot.ylabel(\"value\")\n",
    "# allDf.plot()"
   ]
  },
  {
   "cell_type": "code",
   "execution_count": 75,
   "metadata": {},
   "outputs": [
    {
     "data": {
      "text/html": [
       "<div>\n",
       "<style scoped>\n",
       "    .dataframe tbody tr th:only-of-type {\n",
       "        vertical-align: middle;\n",
       "    }\n",
       "\n",
       "    .dataframe tbody tr th {\n",
       "        vertical-align: top;\n",
       "    }\n",
       "\n",
       "    .dataframe thead th {\n",
       "        text-align: right;\n",
       "    }\n",
       "</style>\n",
       "<table border=\"1\" class=\"dataframe\">\n",
       "  <thead>\n",
       "    <tr style=\"text-align: right;\">\n",
       "      <th></th>\n",
       "      <th>Unnamed: 0</th>\n",
       "      <th>Accuracy</th>\n",
       "      <th>Precision</th>\n",
       "      <th>Recall</th>\n",
       "      <th>F1</th>\n",
       "    </tr>\n",
       "  </thead>\n",
       "  <tbody>\n",
       "    <tr>\n",
       "      <th>0</th>\n",
       "      <td>a</td>\n",
       "      <td>93.125</td>\n",
       "      <td>92.803970</td>\n",
       "      <td>93.50</td>\n",
       "      <td>93.150685</td>\n",
       "    </tr>\n",
       "    <tr>\n",
       "      <th>1</th>\n",
       "      <td>b</td>\n",
       "      <td>90.875</td>\n",
       "      <td>90.570720</td>\n",
       "      <td>91.25</td>\n",
       "      <td>90.909091</td>\n",
       "    </tr>\n",
       "    <tr>\n",
       "      <th>2</th>\n",
       "      <td>c</td>\n",
       "      <td>89.250</td>\n",
       "      <td>89.054726</td>\n",
       "      <td>89.50</td>\n",
       "      <td>89.276808</td>\n",
       "    </tr>\n",
       "    <tr>\n",
       "      <th>3</th>\n",
       "      <td>d</td>\n",
       "      <td>88.375</td>\n",
       "      <td>87.714988</td>\n",
       "      <td>89.25</td>\n",
       "      <td>88.475836</td>\n",
       "    </tr>\n",
       "  </tbody>\n",
       "</table>\n",
       "</div>"
      ],
      "text/plain": [
       "  Unnamed: 0  Accuracy  Precision  Recall         F1\n",
       "0          a    93.125  92.803970   93.50  93.150685\n",
       "1          b    90.875  90.570720   91.25  90.909091\n",
       "2          c    89.250  89.054726   89.50  89.276808\n",
       "3          d    88.375  87.714988   89.25  88.475836"
      ]
     },
     "execution_count": 75,
     "metadata": {},
     "output_type": "execute_result"
    }
   ],
   "source": [
    "allDfSL = pd.read_csv('allDfSL.csv')\n",
    "allDfSL"
   ]
  },
  {
   "cell_type": "code",
   "execution_count": 76,
   "metadata": {},
   "outputs": [
    {
     "data": {
      "text/plain": [
       "Text(0, 0.5, 'value')"
      ]
     },
     "execution_count": 76,
     "metadata": {},
     "output_type": "execute_result"
    },
    {
     "data": {
      "image/png": "[encoded data removed]",
      "text/plain": [
       "<Figure size 720x360 with 1 Axes>"
      ]
     },
     "metadata": {
      "needs_background": "light"
     },
     "output_type": "display_data"
    }
   ],
   "source": [
    "allDfSL = pd.read_csv('allDfSL.csv')\n",
    "x = allDfSL[\"Unnamed: 0\"]\n",
    "y1 = allDfSL[\"Accuracy\"]\n",
    "y2 = allDfSL[\"Precision\"]\n",
    "y3 = allDfSL[\"Recall\"]\n",
    "y4 = allDfSL[\"F1\"]\n",
    "mplot.figure(figsize=(10,5))\n",
    "mplot.plot(x,y1,'--o')\n",
    "mplot.plot(x,y2,'--o')\n",
    "mplot.plot(x,y3,'--o')\n",
    "mplot.plot(x,y4,'--o')\n",
    "mplot.legend([\"Accuracy\",\"Precision\",\"Recall\",\"Recall\"])\n",
    "mplot.xlabel(\"State\")\n",
    "mplot.ylabel(\"value\")\n",
    "# allDfSL.plot()"
   ]
  },
  {
   "cell_type": "markdown",
   "metadata": {
    "direction": "rtl"
   },
   "source": [
    "<div style=\"direction:rtl\">\n",
    "    بنابراین در این شرایط حالتی که تنها کلمات پرتکرار حذف شوند در چهار حالت برای معیار ها مقادیر به نسبه بهتری را گزارش می دهند. البته در همه موارد ذکر شده تفاوت بسیار کم است. \n",
    "    </div>"
   ]
  },
  {
   "cell_type": "markdown",
   "metadata": {
    "direction": "rtl"
   },
   "source": [
    "## <div style=\"direction:rtl\"> نتیجه گیری</div>\n",
    "<div style=\"direction:rtl\">\n",
    "    یکی از راه های دسته بندی داده ها به کلاس های متفاوت کمک گرفتن از Naive Bayse است. اما تنها استفاده از آن ضامن دسته بندی دقیق نیست. توجه به پیش پردازش داده ها، تمیز کردن آنها و آماده سازی آنها برای استفاده در مدل از اهمیت بالایی برخوردار است. همچنین باید توجه کرد داده هایی که به عنوان train در اختیار داریم الزاماً احتمالات دقیق نمی دهند(اکثراً نمی دهند) و بایستی با کمک راههایی مانند Additive Smoothing احتمالات را دقیق تر کنیم. همچنین تنها به یک معیار برای تحلیل دسته بندی مان بسنده نکنیم و با معیار های گوناگون و ترکیب آنها دسته بندی مان را بسنجیم. \n",
    "    </div>"
   ]
  }
 ],
 "metadata": {
  "kernelspec": {
   "display_name": "Python 3",
   "language": "python",
   "name": "python3"
  },
  "language_info": {
   "codemirror_mode": {
    "name": "ipython",
    "version": 3
   },
   "file_extension": ".py",
   "mimetype": "text/x-python",
   "name": "python",
   "nbconvert_exporter": "python",
   "pygments_lexer": "ipython3",
   "version": "3.7.3"
  }
 },
 "nbformat": 4,
 "nbformat_minor": 4
}
